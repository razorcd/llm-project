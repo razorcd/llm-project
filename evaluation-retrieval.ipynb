{
 "cells": [
  {
   "cell_type": "code",
   "execution_count": 1,
   "id": "a4967d1e-448b-4e07-aad1-f2f497a336b8",
   "metadata": {},
   "outputs": [
    {
     "data": {
      "text/html": [
       "<div>\n",
       "<style scoped>\n",
       "    .dataframe tbody tr th:only-of-type {\n",
       "        vertical-align: middle;\n",
       "    }\n",
       "\n",
       "    .dataframe tbody tr th {\n",
       "        vertical-align: top;\n",
       "    }\n",
       "\n",
       "    .dataframe thead th {\n",
       "        text-align: right;\n",
       "    }\n",
       "</style>\n",
       "<table border=\"1\" class=\"dataframe\">\n",
       "  <thead>\n",
       "    <tr style=\"text-align: right;\">\n",
       "      <th></th>\n",
       "      <th>ground_truth_faq_id</th>\n",
       "      <th>generated_question</th>\n",
       "      <th>ground_truth_question</th>\n",
       "      <th>ground_truth_answer</th>\n",
       "      <th>ground_truth_courier</th>\n",
       "    </tr>\n",
       "  </thead>\n",
       "  <tbody>\n",
       "    <tr>\n",
       "      <th>0</th>\n",
       "      <td>0</td>\n",
       "      <td>What type of employment contract do I have wit...</td>\n",
       "      <td>What is my contract type as an employee?</td>\n",
       "      <td>As an employee, you will have a part-time or f...</td>\n",
       "      <td>{'index': 2, 'first_name': 'Olivia', 'last_nam...</td>\n",
       "    </tr>\n",
       "    <tr>\n",
       "      <th>1</th>\n",
       "      <td>0</td>\n",
       "      <td>What benefits do I receive as an employee?</td>\n",
       "      <td>What is my contract type as an employee?</td>\n",
       "      <td>As an employee, you will have a part-time or f...</td>\n",
       "      <td>{'index': 2, 'first_name': 'Olivia', 'last_nam...</td>\n",
       "    </tr>\n",
       "    <tr>\n",
       "      <th>2</th>\n",
       "      <td>0</td>\n",
       "      <td>Am I eligible for paid vacation as an employee?</td>\n",
       "      <td>What is my contract type as an employee?</td>\n",
       "      <td>As an employee, you will have a part-time or f...</td>\n",
       "      <td>{'index': 2, 'first_name': 'Olivia', 'last_nam...</td>\n",
       "    </tr>\n",
       "    <tr>\n",
       "      <th>3</th>\n",
       "      <td>0</td>\n",
       "      <td>What distinguishes my contract from that of a ...</td>\n",
       "      <td>What is my contract type as an employee?</td>\n",
       "      <td>As an employee, you will have a part-time or f...</td>\n",
       "      <td>{'index': 2, 'first_name': 'Olivia', 'last_nam...</td>\n",
       "    </tr>\n",
       "    <tr>\n",
       "      <th>4</th>\n",
       "      <td>0</td>\n",
       "      <td>Does being an employee affect my salary struct...</td>\n",
       "      <td>What is my contract type as an employee?</td>\n",
       "      <td>As an employee, you will have a part-time or f...</td>\n",
       "      <td>{'index': 2, 'first_name': 'Olivia', 'last_nam...</td>\n",
       "    </tr>\n",
       "    <tr>\n",
       "      <th>...</th>\n",
       "      <td>...</td>\n",
       "      <td>...</td>\n",
       "      <td>...</td>\n",
       "      <td>...</td>\n",
       "      <td>...</td>\n",
       "    </tr>\n",
       "    <tr>\n",
       "      <th>1920</th>\n",
       "      <td>654</td>\n",
       "      <td>Am I allowed to decline deliveries to public b...</td>\n",
       "      <td>Can I refuse to deliver to a public building?</td>\n",
       "      <td>No, you must deliver to the specified address....</td>\n",
       "      <td>{'index': 0, 'first_name': 'Emma', 'last_name'...</td>\n",
       "    </tr>\n",
       "    <tr>\n",
       "      <th>1921</th>\n",
       "      <td>654</td>\n",
       "      <td>What is my age as per my courier profile?</td>\n",
       "      <td>Can I refuse to deliver to a public building?</td>\n",
       "      <td>No, you must deliver to the specified address....</td>\n",
       "      <td>{'index': 0, 'first_name': 'Emma', 'last_name'...</td>\n",
       "    </tr>\n",
       "    <tr>\n",
       "      <th>1922</th>\n",
       "      <td>654</td>\n",
       "      <td>What type of contract do I have with iDelivery?</td>\n",
       "      <td>Can I refuse to deliver to a public building?</td>\n",
       "      <td>No, you must deliver to the specified address....</td>\n",
       "      <td>{'index': 0, 'first_name': 'Emma', 'last_name'...</td>\n",
       "    </tr>\n",
       "    <tr>\n",
       "      <th>1923</th>\n",
       "      <td>654</td>\n",
       "      <td>Can I choose my own vehicle type for deliveries?</td>\n",
       "      <td>Can I refuse to deliver to a public building?</td>\n",
       "      <td>No, you must deliver to the specified address....</td>\n",
       "      <td>{'index': 0, 'first_name': 'Emma', 'last_name'...</td>\n",
       "    </tr>\n",
       "    <tr>\n",
       "      <th>1924</th>\n",
       "      <td>654</td>\n",
       "      <td>In which country am I registered as a courier?</td>\n",
       "      <td>Can I refuse to deliver to a public building?</td>\n",
       "      <td>No, you must deliver to the specified address....</td>\n",
       "      <td>{'index': 0, 'first_name': 'Emma', 'last_name'...</td>\n",
       "    </tr>\n",
       "  </tbody>\n",
       "</table>\n",
       "<p>1925 rows × 5 columns</p>\n",
       "</div>"
      ],
      "text/plain": [
       "      ground_truth_faq_id                                 generated_question  \\\n",
       "0                       0  What type of employment contract do I have wit...   \n",
       "1                       0         What benefits do I receive as an employee?   \n",
       "2                       0    Am I eligible for paid vacation as an employee?   \n",
       "3                       0  What distinguishes my contract from that of a ...   \n",
       "4                       0  Does being an employee affect my salary struct...   \n",
       "...                   ...                                                ...   \n",
       "1920                  654  Am I allowed to decline deliveries to public b...   \n",
       "1921                  654          What is my age as per my courier profile?   \n",
       "1922                  654    What type of contract do I have with iDelivery?   \n",
       "1923                  654   Can I choose my own vehicle type for deliveries?   \n",
       "1924                  654     In which country am I registered as a courier?   \n",
       "\n",
       "                              ground_truth_question  \\\n",
       "0          What is my contract type as an employee?   \n",
       "1          What is my contract type as an employee?   \n",
       "2          What is my contract type as an employee?   \n",
       "3          What is my contract type as an employee?   \n",
       "4          What is my contract type as an employee?   \n",
       "...                                             ...   \n",
       "1920  Can I refuse to deliver to a public building?   \n",
       "1921  Can I refuse to deliver to a public building?   \n",
       "1922  Can I refuse to deliver to a public building?   \n",
       "1923  Can I refuse to deliver to a public building?   \n",
       "1924  Can I refuse to deliver to a public building?   \n",
       "\n",
       "                                    ground_truth_answer  \\\n",
       "0     As an employee, you will have a part-time or f...   \n",
       "1     As an employee, you will have a part-time or f...   \n",
       "2     As an employee, you will have a part-time or f...   \n",
       "3     As an employee, you will have a part-time or f...   \n",
       "4     As an employee, you will have a part-time or f...   \n",
       "...                                                 ...   \n",
       "1920  No, you must deliver to the specified address....   \n",
       "1921  No, you must deliver to the specified address....   \n",
       "1922  No, you must deliver to the specified address....   \n",
       "1923  No, you must deliver to the specified address....   \n",
       "1924  No, you must deliver to the specified address....   \n",
       "\n",
       "                                   ground_truth_courier  \n",
       "0     {'index': 2, 'first_name': 'Olivia', 'last_nam...  \n",
       "1     {'index': 2, 'first_name': 'Olivia', 'last_nam...  \n",
       "2     {'index': 2, 'first_name': 'Olivia', 'last_nam...  \n",
       "3     {'index': 2, 'first_name': 'Olivia', 'last_nam...  \n",
       "4     {'index': 2, 'first_name': 'Olivia', 'last_nam...  \n",
       "...                                                 ...  \n",
       "1920  {'index': 0, 'first_name': 'Emma', 'last_name'...  \n",
       "1921  {'index': 0, 'first_name': 'Emma', 'last_name'...  \n",
       "1922  {'index': 0, 'first_name': 'Emma', 'last_name'...  \n",
       "1923  {'index': 0, 'first_name': 'Emma', 'last_name'...  \n",
       "1924  {'index': 0, 'first_name': 'Emma', 'last_name'...  \n",
       "\n",
       "[1925 rows x 5 columns]"
      ]
     },
     "execution_count": 1,
     "metadata": {},
     "output_type": "execute_result"
    }
   ],
   "source": [
    "import pandas as pd\n",
    "\n",
    "ground_truth_df = pd.read_json('evaluation_ground_truth.json')\n",
    "ground_truth_df"
   ]
  },
  {
   "cell_type": "code",
   "execution_count": 37,
   "id": "79a49af1-d489-4f09-83ce-dd4061672dcc",
   "metadata": {},
   "outputs": [],
   "source": [
    "def hit_rate(relevance_total):\n",
    "    cnt = 0\n",
    "\n",
    "    for line in relevance_total:\n",
    "        if True in line:\n",
    "            cnt = cnt + 1\n",
    "\n",
    "    return cnt / len(relevance_total)\n",
    "\n",
    "def mrr(relevance_total):\n",
    "    total_score = 0.0\n",
    "\n",
    "    for line in relevance_total:\n",
    "        for rank in range(len(line)):\n",
    "            if line[rank] == True:\n",
    "                total_score = total_score + 1 / (rank + 1)\n",
    "\n",
    "    return total_score / len(relevance_total)\n",
    "\n",
    "\n",
    "def vector_search(question, country, score_threshold, limit):\n",
    "    # print('vector_search is called on question: '+question)\n",
    "    \n",
    "    return qd_client.query_points(\n",
    "        collection_name=collection_name,\n",
    "        query=models.Document(\n",
    "            text=question,\n",
    "            model=model_handle \n",
    "        ),\n",
    "        query_filter=models.Filter( \n",
    "            must=[\n",
    "                models.FieldCondition(\n",
    "                    key=\"country\",\n",
    "                    match=models.MatchAny(any=[country, \"all\"] )\n",
    "                )\n",
    "            ]\n",
    "        ),\n",
    "        score_threshold = score_threshold,\n",
    "        limit=limit,\n",
    "        with_payload=True\n",
    "    )\n"
   ]
  },
  {
   "cell_type": "code",
   "execution_count": 12,
   "id": "5b82abad-143a-483b-bc4f-3272a88c8c99",
   "metadata": {},
   "outputs": [],
   "source": [
    "from qdrant_client import QdrantClient, models\n",
    "\n",
    "qd_client = QdrantClient(\"http://localhost:6333\")\n",
    "EMBEDDING_DIMENSIONALITY = 512\n",
    "model_handle = \"jinaai/jina-embeddings-v2-small-en\"\n",
    "collection_name = \"courier-faq\"\n"
   ]
  },
  {
   "cell_type": "code",
   "execution_count": 39,
   "id": "75538700-4207-4a14-a871-25967cff3be0",
   "metadata": {},
   "outputs": [],
   "source": [
    "from tqdm.auto import tqdm\n",
    "\n",
    "def evaluate(ground_truth_df, search_function):\n",
    "    relevance_total = []\n",
    "\n",
    "    for ground_truth in tqdm(ground_truth_df.to_dict('records')):\n",
    "        doc_id = ground_truth['ground_truth_faq_id']\n",
    "\n",
    "        generated_question = ground_truth['generated_question']\n",
    "        country = ground_truth['ground_truth_courier']['country']\n",
    "        \n",
    "        result_list = search_function(generated_question, country)\n",
    "        relevance = [result.id == doc_id for result in result_list.points]\n",
    "        relevance_total.append(relevance)\n",
    "\n",
    "        # print(\"ground_truth_faq_id: \",doc_id)\n",
    "        # print(\"generated_question: \",generated_question)\n",
    "        # print(\"ground_truth_question: \",ground_truth['ground_truth_question'])\n",
    "        # print(\"country: \",country)\n",
    "        # print(\"result_list.points: \",result_list.points)\n",
    "        # print(\"relevance: \",relevance)\n",
    "        # print()\n",
    "        \n",
    "        # break\n",
    "\n",
    "    return {\n",
    "        'hit_rate': hit_rate(relevance_total),\n",
    "        'mrr': mrr(relevance_total),\n",
    "    }"
   ]
  },
  {
   "cell_type": "code",
   "execution_count": 59,
   "id": "05ed8ee8-f529-4c83-bf87-1e27b7fa5ae1",
   "metadata": {},
   "outputs": [
    {
     "data": {
      "application/vnd.jupyter.widget-view+json": {
       "model_id": "be29b20f69af49c7a87cd2aa32c31a10",
       "version_major": 2,
       "version_minor": 0
      },
      "text/plain": [
       "  0%|          | 0/100 [00:00<?, ?it/s]"
      ]
     },
     "metadata": {},
     "output_type": "display_data"
    },
    {
     "data": {
      "text/plain": [
       "{'hit_rate': 0.88, 'mrr': 0.8366666666666666}"
      ]
     },
     "execution_count": 59,
     "metadata": {},
     "output_type": "execute_result"
    }
   ],
   "source": [
    "\n",
    "evaluate(sampled_ground_truth_df, lambda question, country: vector_search(question, country, 0.8, 5))"
   ]
  },
  {
   "cell_type": "code",
   "execution_count": 75,
   "id": "a3b02fa4-08ed-45c4-8185-492739bd97a3",
   "metadata": {},
   "outputs": [
    {
     "name": "stdout",
     "output_type": "stream",
     "text": [
      "Evaluating cofigs: score_threshold=0.4, limit=5\n"
     ]
    },
    {
     "data": {
      "application/vnd.jupyter.widget-view+json": {
       "model_id": "25421879a4a64f5fb8f0b1a95a1c08ac",
       "version_major": 2,
       "version_minor": 0
      },
      "text/plain": [
       "  0%|          | 0/1000 [00:00<?, ?it/s]"
      ]
     },
     "metadata": {},
     "output_type": "display_data"
    },
    {
     "name": "stdout",
     "output_type": "stream",
     "text": [
      "Result:  {'hit_rate': 0.718, 'mrr': 0.5571166666666686}\n",
      "Evaluating cofigs: score_threshold=0.4, limit=6\n"
     ]
    },
    {
     "data": {
      "application/vnd.jupyter.widget-view+json": {
       "model_id": "e35d653a1d1b45e4b9ad4b2a0bd2512e",
       "version_major": 2,
       "version_minor": 0
      },
      "text/plain": [
       "  0%|          | 0/1000 [00:00<?, ?it/s]"
      ]
     },
     "metadata": {},
     "output_type": "display_data"
    },
    {
     "name": "stdout",
     "output_type": "stream",
     "text": [
      "Result:  {'hit_rate': 0.743, 'mrr': 0.5621833333333348}\n",
      "Evaluating cofigs: score_threshold=0.4, limit=7\n"
     ]
    },
    {
     "data": {
      "application/vnd.jupyter.widget-view+json": {
       "model_id": "9defaa5d6b434a2aabbb7b3d61b0b61e",
       "version_major": 2,
       "version_minor": 0
      },
      "text/plain": [
       "  0%|          | 0/1000 [00:00<?, ?it/s]"
      ]
     },
     "metadata": {},
     "output_type": "display_data"
    },
    {
     "name": "stdout",
     "output_type": "stream",
     "text": [
      "Result:  {'hit_rate': 0.792, 'mrr': 0.564792857142858}\n",
      "Evaluating cofigs: score_threshold=0.4, limit=8\n"
     ]
    },
    {
     "data": {
      "application/vnd.jupyter.widget-view+json": {
       "model_id": "12f17b190a11481da6066c25f6bb436e",
       "version_major": 2,
       "version_minor": 0
      },
      "text/plain": [
       "  0%|          | 0/1000 [00:00<?, ?it/s]"
      ]
     },
     "metadata": {},
     "output_type": "display_data"
    },
    {
     "name": "stdout",
     "output_type": "stream",
     "text": [
      "Result:  {'hit_rate': 0.811, 'mrr': 0.5666642857142864}\n",
      "Evaluating cofigs: score_threshold=0.4, limit=9\n"
     ]
    },
    {
     "data": {
      "application/vnd.jupyter.widget-view+json": {
       "model_id": "5dd795c7f6a142238b474320d2f77a78",
       "version_major": 2,
       "version_minor": 0
      },
      "text/plain": [
       "  0%|          | 0/1000 [00:00<?, ?it/s]"
      ]
     },
     "metadata": {},
     "output_type": "display_data"
    },
    {
     "name": "stdout",
     "output_type": "stream",
     "text": [
      "Result:  {'hit_rate': 0.83, 'mrr': 0.5727579365079365}\n",
      "Evaluating cofigs: score_threshold=0.5, limit=5\n"
     ]
    },
    {
     "data": {
      "application/vnd.jupyter.widget-view+json": {
       "model_id": "aabeb58bce8b41c5ba46b2d987cd9795",
       "version_major": 2,
       "version_minor": 0
      },
      "text/plain": [
       "  0%|          | 0/1000 [00:00<?, ?it/s]"
      ]
     },
     "metadata": {},
     "output_type": "display_data"
    },
    {
     "name": "stdout",
     "output_type": "stream",
     "text": [
      "Result:  {'hit_rate': 0.718, 'mrr': 0.5571166666666686}\n",
      "Evaluating cofigs: score_threshold=0.5, limit=6\n"
     ]
    },
    {
     "data": {
      "application/vnd.jupyter.widget-view+json": {
       "model_id": "d1e69e54cd9443649b299065071083e6",
       "version_major": 2,
       "version_minor": 0
      },
      "text/plain": [
       "  0%|          | 0/1000 [00:00<?, ?it/s]"
      ]
     },
     "metadata": {},
     "output_type": "display_data"
    },
    {
     "name": "stdout",
     "output_type": "stream",
     "text": [
      "Result:  {'hit_rate': 0.743, 'mrr': 0.5621833333333348}\n",
      "Evaluating cofigs: score_threshold=0.5, limit=7\n"
     ]
    },
    {
     "data": {
      "application/vnd.jupyter.widget-view+json": {
       "model_id": "0db344be1ee9438ebb57e6ad8247bf6e",
       "version_major": 2,
       "version_minor": 0
      },
      "text/plain": [
       "  0%|          | 0/1000 [00:00<?, ?it/s]"
      ]
     },
     "metadata": {},
     "output_type": "display_data"
    },
    {
     "name": "stdout",
     "output_type": "stream",
     "text": [
      "Result:  {'hit_rate': 0.792, 'mrr': 0.564792857142858}\n",
      "Evaluating cofigs: score_threshold=0.5, limit=8\n"
     ]
    },
    {
     "data": {
      "application/vnd.jupyter.widget-view+json": {
       "model_id": "1c102c9df4a44cdaa1b62901b05fdcc4",
       "version_major": 2,
       "version_minor": 0
      },
      "text/plain": [
       "  0%|          | 0/1000 [00:00<?, ?it/s]"
      ]
     },
     "metadata": {},
     "output_type": "display_data"
    },
    {
     "name": "stdout",
     "output_type": "stream",
     "text": [
      "Result:  {'hit_rate': 0.811, 'mrr': 0.5666642857142864}\n",
      "Evaluating cofigs: score_threshold=0.5, limit=9\n"
     ]
    },
    {
     "data": {
      "application/vnd.jupyter.widget-view+json": {
       "model_id": "a0ee9669c9904f5c81eaba6d2c13846f",
       "version_major": 2,
       "version_minor": 0
      },
      "text/plain": [
       "  0%|          | 0/1000 [00:00<?, ?it/s]"
      ]
     },
     "metadata": {},
     "output_type": "display_data"
    },
    {
     "name": "stdout",
     "output_type": "stream",
     "text": [
      "Result:  {'hit_rate': 0.83, 'mrr': 0.5727579365079365}\n",
      "Evaluating cofigs: score_threshold=0.6, limit=5\n"
     ]
    },
    {
     "data": {
      "application/vnd.jupyter.widget-view+json": {
       "model_id": "cfc69bd0d3a74d89b06c9306edb4b774",
       "version_major": 2,
       "version_minor": 0
      },
      "text/plain": [
       "  0%|          | 0/1000 [00:00<?, ?it/s]"
      ]
     },
     "metadata": {},
     "output_type": "display_data"
    },
    {
     "name": "stdout",
     "output_type": "stream",
     "text": [
      "Result:  {'hit_rate': 0.718, 'mrr': 0.5571166666666686}\n",
      "Evaluating cofigs: score_threshold=0.6, limit=6\n"
     ]
    },
    {
     "data": {
      "application/vnd.jupyter.widget-view+json": {
       "model_id": "70b11d89c08d4f6ba280bb7276cb5143",
       "version_major": 2,
       "version_minor": 0
      },
      "text/plain": [
       "  0%|          | 0/1000 [00:00<?, ?it/s]"
      ]
     },
     "metadata": {},
     "output_type": "display_data"
    },
    {
     "name": "stdout",
     "output_type": "stream",
     "text": [
      "Result:  {'hit_rate': 0.743, 'mrr': 0.5621833333333348}\n",
      "Evaluating cofigs: score_threshold=0.6, limit=7\n"
     ]
    },
    {
     "data": {
      "application/vnd.jupyter.widget-view+json": {
       "model_id": "387bb580882c445a916a6f4bba1420c4",
       "version_major": 2,
       "version_minor": 0
      },
      "text/plain": [
       "  0%|          | 0/1000 [00:00<?, ?it/s]"
      ]
     },
     "metadata": {},
     "output_type": "display_data"
    },
    {
     "name": "stdout",
     "output_type": "stream",
     "text": [
      "Result:  {'hit_rate': 0.792, 'mrr': 0.564792857142858}\n",
      "Evaluating cofigs: score_threshold=0.6, limit=8\n"
     ]
    },
    {
     "data": {
      "application/vnd.jupyter.widget-view+json": {
       "model_id": "10cc9dddf84643d0bf07d91a45e3ef95",
       "version_major": 2,
       "version_minor": 0
      },
      "text/plain": [
       "  0%|          | 0/1000 [00:00<?, ?it/s]"
      ]
     },
     "metadata": {},
     "output_type": "display_data"
    },
    {
     "name": "stdout",
     "output_type": "stream",
     "text": [
      "Result:  {'hit_rate': 0.811, 'mrr': 0.5666642857142864}\n",
      "Evaluating cofigs: score_threshold=0.6, limit=9\n"
     ]
    },
    {
     "data": {
      "application/vnd.jupyter.widget-view+json": {
       "model_id": "fa89f9aff7cb49b4acbfdff7c7f82d8a",
       "version_major": 2,
       "version_minor": 0
      },
      "text/plain": [
       "  0%|          | 0/1000 [00:00<?, ?it/s]"
      ]
     },
     "metadata": {},
     "output_type": "display_data"
    },
    {
     "name": "stdout",
     "output_type": "stream",
     "text": [
      "Result:  {'hit_rate': 0.83, 'mrr': 0.5727579365079365}\n",
      "Evaluating cofigs: score_threshold=0.7, limit=5\n"
     ]
    },
    {
     "data": {
      "application/vnd.jupyter.widget-view+json": {
       "model_id": "32650fc5912e42bba852d928983dbf0a",
       "version_major": 2,
       "version_minor": 0
      },
      "text/plain": [
       "  0%|          | 0/1000 [00:00<?, ?it/s]"
      ]
     },
     "metadata": {},
     "output_type": "display_data"
    },
    {
     "name": "stdout",
     "output_type": "stream",
     "text": [
      "Result:  {'hit_rate': 0.718, 'mrr': 0.5571166666666686}\n",
      "Evaluating cofigs: score_threshold=0.7, limit=6\n"
     ]
    },
    {
     "data": {
      "application/vnd.jupyter.widget-view+json": {
       "model_id": "358a20464c3244d59a74607f7e08eb95",
       "version_major": 2,
       "version_minor": 0
      },
      "text/plain": [
       "  0%|          | 0/1000 [00:00<?, ?it/s]"
      ]
     },
     "metadata": {},
     "output_type": "display_data"
    },
    {
     "name": "stdout",
     "output_type": "stream",
     "text": [
      "Result:  {'hit_rate': 0.743, 'mrr': 0.5621833333333348}\n",
      "Evaluating cofigs: score_threshold=0.7, limit=7\n"
     ]
    },
    {
     "data": {
      "application/vnd.jupyter.widget-view+json": {
       "model_id": "7fcac92fb2b145fcac4d7135c1d39a9c",
       "version_major": 2,
       "version_minor": 0
      },
      "text/plain": [
       "  0%|          | 0/1000 [00:00<?, ?it/s]"
      ]
     },
     "metadata": {},
     "output_type": "display_data"
    },
    {
     "name": "stdout",
     "output_type": "stream",
     "text": [
      "Result:  {'hit_rate': 0.792, 'mrr': 0.564792857142858}\n",
      "Evaluating cofigs: score_threshold=0.7, limit=8\n"
     ]
    },
    {
     "data": {
      "application/vnd.jupyter.widget-view+json": {
       "model_id": "1ca58ab3f9ac4a1ca0059b744e0ea116",
       "version_major": 2,
       "version_minor": 0
      },
      "text/plain": [
       "  0%|          | 0/1000 [00:00<?, ?it/s]"
      ]
     },
     "metadata": {},
     "output_type": "display_data"
    },
    {
     "name": "stdout",
     "output_type": "stream",
     "text": [
      "Result:  {'hit_rate': 0.811, 'mrr': 0.5666642857142864}\n",
      "Evaluating cofigs: score_threshold=0.7, limit=9\n"
     ]
    },
    {
     "data": {
      "application/vnd.jupyter.widget-view+json": {
       "model_id": "c6a5fc12e5dd4de9a239bccbbdbe8ed1",
       "version_major": 2,
       "version_minor": 0
      },
      "text/plain": [
       "  0%|          | 0/1000 [00:00<?, ?it/s]"
      ]
     },
     "metadata": {},
     "output_type": "display_data"
    },
    {
     "name": "stdout",
     "output_type": "stream",
     "text": [
      "Result:  {'hit_rate': 0.83, 'mrr': 0.5727579365079365}\n",
      "Evaluating cofigs: score_threshold=0.7999999999999999, limit=5\n"
     ]
    },
    {
     "data": {
      "application/vnd.jupyter.widget-view+json": {
       "model_id": "dfb61085f62746f68b1207a144844a53",
       "version_major": 2,
       "version_minor": 0
      },
      "text/plain": [
       "  0%|          | 0/1000 [00:00<?, ?it/s]"
      ]
     },
     "metadata": {},
     "output_type": "display_data"
    },
    {
     "name": "stdout",
     "output_type": "stream",
     "text": [
      "Result:  {'hit_rate': 0.69, 'mrr': 0.5409333333333346}\n",
      "Evaluating cofigs: score_threshold=0.7999999999999999, limit=6\n"
     ]
    },
    {
     "data": {
      "application/vnd.jupyter.widget-view+json": {
       "model_id": "130f3d9b7d1e4ec8bee4127eafee87e3",
       "version_major": 2,
       "version_minor": 0
      },
      "text/plain": [
       "  0%|          | 0/1000 [00:00<?, ?it/s]"
      ]
     },
     "metadata": {},
     "output_type": "display_data"
    },
    {
     "name": "stdout",
     "output_type": "stream",
     "text": [
      "Result:  {'hit_rate': 0.711, 'mrr': 0.5452500000000003}\n",
      "Evaluating cofigs: score_threshold=0.7999999999999999, limit=7\n"
     ]
    },
    {
     "data": {
      "application/vnd.jupyter.widget-view+json": {
       "model_id": "beb08352b4a547228846acdf06e5f8a4",
       "version_major": 2,
       "version_minor": 0
      },
      "text/plain": [
       "  0%|          | 0/1000 [00:00<?, ?it/s]"
      ]
     },
     "metadata": {},
     "output_type": "display_data"
    },
    {
     "name": "stdout",
     "output_type": "stream",
     "text": [
      "Result:  {'hit_rate': 0.756, 'mrr': 0.5472380952380964}\n",
      "Evaluating cofigs: score_threshold=0.7999999999999999, limit=8\n"
     ]
    },
    {
     "data": {
      "application/vnd.jupyter.widget-view+json": {
       "model_id": "513ace198337495680cbc6a20cbdfe19",
       "version_major": 2,
       "version_minor": 0
      },
      "text/plain": [
       "  0%|          | 0/1000 [00:00<?, ?it/s]"
      ]
     },
     "metadata": {},
     "output_type": "display_data"
    },
    {
     "name": "stdout",
     "output_type": "stream",
     "text": [
      "Result:  {'hit_rate': 0.773, 'mrr': 0.5491178571428574}\n",
      "Evaluating cofigs: score_threshold=0.7999999999999999, limit=9\n"
     ]
    },
    {
     "data": {
      "application/vnd.jupyter.widget-view+json": {
       "model_id": "d84199220535445ca02fbb1d1e25ae2b",
       "version_major": 2,
       "version_minor": 0
      },
      "text/plain": [
       "  0%|          | 0/1000 [00:00<?, ?it/s]"
      ]
     },
     "metadata": {},
     "output_type": "display_data"
    },
    {
     "name": "stdout",
     "output_type": "stream",
     "text": [
      "Result:  {'hit_rate': 0.79, 'mrr': 0.554590476190476}\n",
      "Evaluating cofigs: score_threshold=0.8999999999999999, limit=5\n"
     ]
    },
    {
     "data": {
      "application/vnd.jupyter.widget-view+json": {
       "model_id": "35c27cf30c6e459e891c6b369f5b38a0",
       "version_major": 2,
       "version_minor": 0
      },
      "text/plain": [
       "  0%|          | 0/1000 [00:00<?, ?it/s]"
      ]
     },
     "metadata": {},
     "output_type": "display_data"
    },
    {
     "name": "stdout",
     "output_type": "stream",
     "text": [
      "Result:  {'hit_rate': 0.168, 'mrr': 0.14110000000000003}\n",
      "Evaluating cofigs: score_threshold=0.8999999999999999, limit=6\n"
     ]
    },
    {
     "data": {
      "application/vnd.jupyter.widget-view+json": {
       "model_id": "14810cd01a1042d39c369b4052c72066",
       "version_major": 2,
       "version_minor": 0
      },
      "text/plain": [
       "  0%|          | 0/1000 [00:00<?, ?it/s]"
      ]
     },
     "metadata": {},
     "output_type": "display_data"
    },
    {
     "name": "stdout",
     "output_type": "stream",
     "text": [
      "Result:  {'hit_rate': 0.171, 'mrr': 0.13698333333333326}\n",
      "Evaluating cofigs: score_threshold=0.8999999999999999, limit=7\n"
     ]
    },
    {
     "data": {
      "application/vnd.jupyter.widget-view+json": {
       "model_id": "94679dd18b1b425fa7dfd8fa8d9d9cd7",
       "version_major": 2,
       "version_minor": 0
      },
      "text/plain": [
       "  0%|          | 0/1000 [00:00<?, ?it/s]"
      ]
     },
     "metadata": {},
     "output_type": "display_data"
    },
    {
     "name": "stdout",
     "output_type": "stream",
     "text": [
      "Result:  {'hit_rate': 0.177, 'mrr': 0.13959047619047613}\n",
      "Evaluating cofigs: score_threshold=0.8999999999999999, limit=8\n"
     ]
    },
    {
     "data": {
      "application/vnd.jupyter.widget-view+json": {
       "model_id": "fe9dd3985d2449af899fe05c192085a6",
       "version_major": 2,
       "version_minor": 0
      },
      "text/plain": [
       "  0%|          | 0/1000 [00:00<?, ?it/s]"
      ]
     },
     "metadata": {},
     "output_type": "display_data"
    },
    {
     "name": "stdout",
     "output_type": "stream",
     "text": [
      "Result:  {'hit_rate': 0.178, 'mrr': 0.13670833333333327}\n",
      "Evaluating cofigs: score_threshold=0.8999999999999999, limit=9\n"
     ]
    },
    {
     "data": {
      "application/vnd.jupyter.widget-view+json": {
       "model_id": "9a148127714e45ee8bfaf412a30294e9",
       "version_major": 2,
       "version_minor": 0
      },
      "text/plain": [
       "  0%|          | 0/1000 [00:00<?, ?it/s]"
      ]
     },
     "metadata": {},
     "output_type": "display_data"
    },
    {
     "name": "stdout",
     "output_type": "stream",
     "text": [
      "Result:  {'hit_rate': 0.18, 'mrr': 0.13709563492063484}\n",
      "Best params: \n"
     ]
    },
    {
     "data": {
      "text/plain": [
       "[{'hit_rate': 0.83,\n",
       "  'mrr': 0.5727579365079365,\n",
       "  'score_threshold': np.float64(0.4),\n",
       "  'limit': np.int64(9)},\n",
       " {'hit_rate': 0.83,\n",
       "  'mrr': 0.5727579365079365,\n",
       "  'score_threshold': np.float64(0.5),\n",
       "  'limit': np.int64(9)},\n",
       " {'hit_rate': 0.83,\n",
       "  'mrr': 0.5727579365079365,\n",
       "  'score_threshold': np.float64(0.6),\n",
       "  'limit': np.int64(9)},\n",
       " {'hit_rate': 0.83,\n",
       "  'mrr': 0.5727579365079365,\n",
       "  'score_threshold': np.float64(0.7),\n",
       "  'limit': np.int64(9)},\n",
       " {'hit_rate': 0.811,\n",
       "  'mrr': 0.5666642857142864,\n",
       "  'score_threshold': np.float64(0.4),\n",
       "  'limit': np.int64(8)},\n",
       " {'hit_rate': 0.811,\n",
       "  'mrr': 0.5666642857142864,\n",
       "  'score_threshold': np.float64(0.5),\n",
       "  'limit': np.int64(8)},\n",
       " {'hit_rate': 0.811,\n",
       "  'mrr': 0.5666642857142864,\n",
       "  'score_threshold': np.float64(0.6),\n",
       "  'limit': np.int64(8)},\n",
       " {'hit_rate': 0.811,\n",
       "  'mrr': 0.5666642857142864,\n",
       "  'score_threshold': np.float64(0.7),\n",
       "  'limit': np.int64(8)},\n",
       " {'hit_rate': 0.792,\n",
       "  'mrr': 0.564792857142858,\n",
       "  'score_threshold': np.float64(0.4),\n",
       "  'limit': np.int64(7)},\n",
       " {'hit_rate': 0.792,\n",
       "  'mrr': 0.564792857142858,\n",
       "  'score_threshold': np.float64(0.5),\n",
       "  'limit': np.int64(7)},\n",
       " {'hit_rate': 0.792,\n",
       "  'mrr': 0.564792857142858,\n",
       "  'score_threshold': np.float64(0.6),\n",
       "  'limit': np.int64(7)},\n",
       " {'hit_rate': 0.792,\n",
       "  'mrr': 0.564792857142858,\n",
       "  'score_threshold': np.float64(0.7),\n",
       "  'limit': np.int64(7)},\n",
       " {'hit_rate': 0.743,\n",
       "  'mrr': 0.5621833333333348,\n",
       "  'score_threshold': np.float64(0.4),\n",
       "  'limit': np.int64(6)},\n",
       " {'hit_rate': 0.743,\n",
       "  'mrr': 0.5621833333333348,\n",
       "  'score_threshold': np.float64(0.5),\n",
       "  'limit': np.int64(6)},\n",
       " {'hit_rate': 0.743,\n",
       "  'mrr': 0.5621833333333348,\n",
       "  'score_threshold': np.float64(0.6),\n",
       "  'limit': np.int64(6)},\n",
       " {'hit_rate': 0.743,\n",
       "  'mrr': 0.5621833333333348,\n",
       "  'score_threshold': np.float64(0.7),\n",
       "  'limit': np.int64(6)},\n",
       " {'hit_rate': 0.718,\n",
       "  'mrr': 0.5571166666666686,\n",
       "  'score_threshold': np.float64(0.4),\n",
       "  'limit': np.int64(5)},\n",
       " {'hit_rate': 0.718,\n",
       "  'mrr': 0.5571166666666686,\n",
       "  'score_threshold': np.float64(0.5),\n",
       "  'limit': np.int64(5)},\n",
       " {'hit_rate': 0.718,\n",
       "  'mrr': 0.5571166666666686,\n",
       "  'score_threshold': np.float64(0.6),\n",
       "  'limit': np.int64(5)},\n",
       " {'hit_rate': 0.718,\n",
       "  'mrr': 0.5571166666666686,\n",
       "  'score_threshold': np.float64(0.7),\n",
       "  'limit': np.int64(5)},\n",
       " {'hit_rate': 0.79,\n",
       "  'mrr': 0.554590476190476,\n",
       "  'score_threshold': np.float64(0.7999999999999999),\n",
       "  'limit': np.int64(9)},\n",
       " {'hit_rate': 0.773,\n",
       "  'mrr': 0.5491178571428574,\n",
       "  'score_threshold': np.float64(0.7999999999999999),\n",
       "  'limit': np.int64(8)},\n",
       " {'hit_rate': 0.756,\n",
       "  'mrr': 0.5472380952380964,\n",
       "  'score_threshold': np.float64(0.7999999999999999),\n",
       "  'limit': np.int64(7)},\n",
       " {'hit_rate': 0.711,\n",
       "  'mrr': 0.5452500000000003,\n",
       "  'score_threshold': np.float64(0.7999999999999999),\n",
       "  'limit': np.int64(6)},\n",
       " {'hit_rate': 0.69,\n",
       "  'mrr': 0.5409333333333346,\n",
       "  'score_threshold': np.float64(0.7999999999999999),\n",
       "  'limit': np.int64(5)},\n",
       " {'hit_rate': 0.168,\n",
       "  'mrr': 0.14110000000000003,\n",
       "  'score_threshold': np.float64(0.8999999999999999),\n",
       "  'limit': np.int64(5)},\n",
       " {'hit_rate': 0.177,\n",
       "  'mrr': 0.13959047619047613,\n",
       "  'score_threshold': np.float64(0.8999999999999999),\n",
       "  'limit': np.int64(7)},\n",
       " {'hit_rate': 0.18,\n",
       "  'mrr': 0.13709563492063484,\n",
       "  'score_threshold': np.float64(0.8999999999999999),\n",
       "  'limit': np.int64(9)},\n",
       " {'hit_rate': 0.171,\n",
       "  'mrr': 0.13698333333333326,\n",
       "  'score_threshold': np.float64(0.8999999999999999),\n",
       "  'limit': np.int64(6)},\n",
       " {'hit_rate': 0.178,\n",
       "  'mrr': 0.13670833333333327,\n",
       "  'score_threshold': np.float64(0.8999999999999999),\n",
       "  'limit': np.int64(8)}]"
      ]
     },
     "execution_count": 75,
     "metadata": {},
     "output_type": "execute_result"
    }
   ],
   "source": [
    "import numpy as np\n",
    "\n",
    "score = []\n",
    "sampled_ground_truth_df = ground_truth_df.head(1000)\n",
    "\n",
    "for score_threshold in np.arange(0.4, 1.0, 0.1):\n",
    "    for limit in np.arange(5, 10, 1):\n",
    "        print(\"Evaluating cofigs: score_threshold=\"+str(score_threshold)+\", limit=\"+str(limit))\n",
    "        result = evaluate(sampled_ground_truth_df, lambda question, country: vector_search(question, country, score_threshold, limit))\n",
    "        print(\"Result: \", result)\n",
    "        score.append({\n",
    "            \"hit_rate\": result['hit_rate'],\n",
    "            \"mrr\": result['mrr'],\n",
    "            \"score_threshold\": score_threshold,\n",
    "            \"limit\": limit,\n",
    "        })\n",
    "\n",
    "result = sorted(score, key=lambda item: item['mrr'], reverse=True)\n",
    "print(\"Best params: \")\n",
    "result\n"
   ]
  }
 ],
 "metadata": {
  "kernelspec": {
   "display_name": "OpenAI Project",
   "language": "python",
   "name": "my_openai_env"
  },
  "language_info": {
   "codemirror_mode": {
    "name": "ipython",
    "version": 3
   },
   "file_extension": ".py",
   "mimetype": "text/x-python",
   "name": "python",
   "nbconvert_exporter": "python",
   "pygments_lexer": "ipython3",
   "version": "3.13.5"
  }
 },
 "nbformat": 4,
 "nbformat_minor": 5
}
