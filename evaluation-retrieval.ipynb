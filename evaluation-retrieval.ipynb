{
 "cells": [
  {
   "cell_type": "code",
   "execution_count": 1,
   "id": "a4967d1e-448b-4e07-aad1-f2f497a336b8",
   "metadata": {},
   "outputs": [
    {
     "data": {
      "text/html": [
       "<div>\n",
       "<style scoped>\n",
       "    .dataframe tbody tr th:only-of-type {\n",
       "        vertical-align: middle;\n",
       "    }\n",
       "\n",
       "    .dataframe tbody tr th {\n",
       "        vertical-align: top;\n",
       "    }\n",
       "\n",
       "    .dataframe thead th {\n",
       "        text-align: right;\n",
       "    }\n",
       "</style>\n",
       "<table border=\"1\" class=\"dataframe\">\n",
       "  <thead>\n",
       "    <tr style=\"text-align: right;\">\n",
       "      <th></th>\n",
       "      <th>ground_truth_faq_id</th>\n",
       "      <th>generated_question</th>\n",
       "      <th>ground_truth_question</th>\n",
       "      <th>ground_truth_answer</th>\n",
       "      <th>ground_truth_courier</th>\n",
       "    </tr>\n",
       "  </thead>\n",
       "  <tbody>\n",
       "    <tr>\n",
       "      <th>0</th>\n",
       "      <td>0</td>\n",
       "      <td>What type of employment contract do I have wit...</td>\n",
       "      <td>What is my contract type as an employee?</td>\n",
       "      <td>As an employee, you will have a part-time or f...</td>\n",
       "      <td>{'index': 2, 'first_name': 'Olivia', 'last_nam...</td>\n",
       "    </tr>\n",
       "    <tr>\n",
       "      <th>1</th>\n",
       "      <td>0</td>\n",
       "      <td>What benefits do I receive as an employee?</td>\n",
       "      <td>What is my contract type as an employee?</td>\n",
       "      <td>As an employee, you will have a part-time or f...</td>\n",
       "      <td>{'index': 2, 'first_name': 'Olivia', 'last_nam...</td>\n",
       "    </tr>\n",
       "    <tr>\n",
       "      <th>2</th>\n",
       "      <td>0</td>\n",
       "      <td>Am I eligible for paid vacation as an employee?</td>\n",
       "      <td>What is my contract type as an employee?</td>\n",
       "      <td>As an employee, you will have a part-time or f...</td>\n",
       "      <td>{'index': 2, 'first_name': 'Olivia', 'last_nam...</td>\n",
       "    </tr>\n",
       "    <tr>\n",
       "      <th>3</th>\n",
       "      <td>0</td>\n",
       "      <td>What distinguishes my contract from that of a ...</td>\n",
       "      <td>What is my contract type as an employee?</td>\n",
       "      <td>As an employee, you will have a part-time or f...</td>\n",
       "      <td>{'index': 2, 'first_name': 'Olivia', 'last_nam...</td>\n",
       "    </tr>\n",
       "    <tr>\n",
       "      <th>4</th>\n",
       "      <td>0</td>\n",
       "      <td>Does being an employee affect my salary struct...</td>\n",
       "      <td>What is my contract type as an employee?</td>\n",
       "      <td>As an employee, you will have a part-time or f...</td>\n",
       "      <td>{'index': 2, 'first_name': 'Olivia', 'last_nam...</td>\n",
       "    </tr>\n",
       "    <tr>\n",
       "      <th>...</th>\n",
       "      <td>...</td>\n",
       "      <td>...</td>\n",
       "      <td>...</td>\n",
       "      <td>...</td>\n",
       "      <td>...</td>\n",
       "    </tr>\n",
       "    <tr>\n",
       "      <th>1920</th>\n",
       "      <td>654</td>\n",
       "      <td>Am I allowed to decline deliveries to public b...</td>\n",
       "      <td>Can I refuse to deliver to a public building?</td>\n",
       "      <td>No, you must deliver to the specified address....</td>\n",
       "      <td>{'index': 0, 'first_name': 'Emma', 'last_name'...</td>\n",
       "    </tr>\n",
       "    <tr>\n",
       "      <th>1921</th>\n",
       "      <td>654</td>\n",
       "      <td>What is my age as per my courier profile?</td>\n",
       "      <td>Can I refuse to deliver to a public building?</td>\n",
       "      <td>No, you must deliver to the specified address....</td>\n",
       "      <td>{'index': 0, 'first_name': 'Emma', 'last_name'...</td>\n",
       "    </tr>\n",
       "    <tr>\n",
       "      <th>1922</th>\n",
       "      <td>654</td>\n",
       "      <td>What type of contract do I have with iDelivery?</td>\n",
       "      <td>Can I refuse to deliver to a public building?</td>\n",
       "      <td>No, you must deliver to the specified address....</td>\n",
       "      <td>{'index': 0, 'first_name': 'Emma', 'last_name'...</td>\n",
       "    </tr>\n",
       "    <tr>\n",
       "      <th>1923</th>\n",
       "      <td>654</td>\n",
       "      <td>Can I choose my own vehicle type for deliveries?</td>\n",
       "      <td>Can I refuse to deliver to a public building?</td>\n",
       "      <td>No, you must deliver to the specified address....</td>\n",
       "      <td>{'index': 0, 'first_name': 'Emma', 'last_name'...</td>\n",
       "    </tr>\n",
       "    <tr>\n",
       "      <th>1924</th>\n",
       "      <td>654</td>\n",
       "      <td>In which country am I registered as a courier?</td>\n",
       "      <td>Can I refuse to deliver to a public building?</td>\n",
       "      <td>No, you must deliver to the specified address....</td>\n",
       "      <td>{'index': 0, 'first_name': 'Emma', 'last_name'...</td>\n",
       "    </tr>\n",
       "  </tbody>\n",
       "</table>\n",
       "<p>1925 rows × 5 columns</p>\n",
       "</div>"
      ],
      "text/plain": [
       "      ground_truth_faq_id                                 generated_question  \\\n",
       "0                       0  What type of employment contract do I have wit...   \n",
       "1                       0         What benefits do I receive as an employee?   \n",
       "2                       0    Am I eligible for paid vacation as an employee?   \n",
       "3                       0  What distinguishes my contract from that of a ...   \n",
       "4                       0  Does being an employee affect my salary struct...   \n",
       "...                   ...                                                ...   \n",
       "1920                  654  Am I allowed to decline deliveries to public b...   \n",
       "1921                  654          What is my age as per my courier profile?   \n",
       "1922                  654    What type of contract do I have with iDelivery?   \n",
       "1923                  654   Can I choose my own vehicle type for deliveries?   \n",
       "1924                  654     In which country am I registered as a courier?   \n",
       "\n",
       "                              ground_truth_question  \\\n",
       "0          What is my contract type as an employee?   \n",
       "1          What is my contract type as an employee?   \n",
       "2          What is my contract type as an employee?   \n",
       "3          What is my contract type as an employee?   \n",
       "4          What is my contract type as an employee?   \n",
       "...                                             ...   \n",
       "1920  Can I refuse to deliver to a public building?   \n",
       "1921  Can I refuse to deliver to a public building?   \n",
       "1922  Can I refuse to deliver to a public building?   \n",
       "1923  Can I refuse to deliver to a public building?   \n",
       "1924  Can I refuse to deliver to a public building?   \n",
       "\n",
       "                                    ground_truth_answer  \\\n",
       "0     As an employee, you will have a part-time or f...   \n",
       "1     As an employee, you will have a part-time or f...   \n",
       "2     As an employee, you will have a part-time or f...   \n",
       "3     As an employee, you will have a part-time or f...   \n",
       "4     As an employee, you will have a part-time or f...   \n",
       "...                                                 ...   \n",
       "1920  No, you must deliver to the specified address....   \n",
       "1921  No, you must deliver to the specified address....   \n",
       "1922  No, you must deliver to the specified address....   \n",
       "1923  No, you must deliver to the specified address....   \n",
       "1924  No, you must deliver to the specified address....   \n",
       "\n",
       "                                   ground_truth_courier  \n",
       "0     {'index': 2, 'first_name': 'Olivia', 'last_nam...  \n",
       "1     {'index': 2, 'first_name': 'Olivia', 'last_nam...  \n",
       "2     {'index': 2, 'first_name': 'Olivia', 'last_nam...  \n",
       "3     {'index': 2, 'first_name': 'Olivia', 'last_nam...  \n",
       "4     {'index': 2, 'first_name': 'Olivia', 'last_nam...  \n",
       "...                                                 ...  \n",
       "1920  {'index': 0, 'first_name': 'Emma', 'last_name'...  \n",
       "1921  {'index': 0, 'first_name': 'Emma', 'last_name'...  \n",
       "1922  {'index': 0, 'first_name': 'Emma', 'last_name'...  \n",
       "1923  {'index': 0, 'first_name': 'Emma', 'last_name'...  \n",
       "1924  {'index': 0, 'first_name': 'Emma', 'last_name'...  \n",
       "\n",
       "[1925 rows x 5 columns]"
      ]
     },
     "execution_count": 1,
     "metadata": {},
     "output_type": "execute_result"
    }
   ],
   "source": [
    "import pandas as pd\n",
    "\n",
    "ground_truth_df = pd.read_json('evaluation_ground_truth.json')\n",
    "ground_truth_df"
   ]
  },
  {
   "cell_type": "code",
   "execution_count": 37,
   "id": "79a49af1-d489-4f09-83ce-dd4061672dcc",
   "metadata": {},
   "outputs": [],
   "source": [
    "def hit_rate(relevance_total):\n",
    "    cnt = 0\n",
    "\n",
    "    for line in relevance_total:\n",
    "        if True in line:\n",
    "            cnt = cnt + 1\n",
    "\n",
    "    return cnt / len(relevance_total)\n",
    "\n",
    "def mrr(relevance_total):\n",
    "    total_score = 0.0\n",
    "\n",
    "    for line in relevance_total:\n",
    "        for rank in range(len(line)):\n",
    "            if line[rank] == True:\n",
    "                total_score = total_score + 1 / (rank + 1)\n",
    "\n",
    "    return total_score / len(relevance_total)\n",
    "\n",
    "\n",
    "def vector_search(question, country, score_threshold, limit):\n",
    "    # print('vector_search is called on question: '+question)\n",
    "    \n",
    "    return qd_client.query_points(\n",
    "        collection_name=collection_name,\n",
    "        query=models.Document(\n",
    "            text=question,\n",
    "            model=model_handle \n",
    "        ),\n",
    "        query_filter=models.Filter( \n",
    "            must=[\n",
    "                models.FieldCondition(\n",
    "                    key=\"country\",\n",
    "                    match=models.MatchAny(any=[country, \"all\"] )\n",
    "                )\n",
    "            ]\n",
    "        ),\n",
    "        score_threshold = score_threshold,\n",
    "        limit=limit,\n",
    "        with_payload=True\n",
    "    )\n"
   ]
  },
  {
   "cell_type": "code",
   "execution_count": 12,
   "id": "5b82abad-143a-483b-bc4f-3272a88c8c99",
   "metadata": {},
   "outputs": [],
   "source": [
    "from qdrant_client import QdrantClient, models\n",
    "\n",
    "qd_client = QdrantClient(\"http://localhost:6333\")\n",
    "EMBEDDING_DIMENSIONALITY = 512\n",
    "model_handle = \"jinaai/jina-embeddings-v2-small-en\"\n",
    "collection_name = \"courier-faq\"\n"
   ]
  },
  {
   "cell_type": "code",
   "execution_count": 39,
   "id": "75538700-4207-4a14-a871-25967cff3be0",
   "metadata": {},
   "outputs": [],
   "source": [
    "from tqdm.auto import tqdm\n",
    "\n",
    "def evaluate(ground_truth_df, search_function):\n",
    "    relevance_total = []\n",
    "\n",
    "    for ground_truth in tqdm(ground_truth_df.to_dict('records')):\n",
    "        doc_id = ground_truth['ground_truth_faq_id']\n",
    "\n",
    "        generated_question = ground_truth['generated_question']\n",
    "        country = ground_truth['ground_truth_courier']['country']\n",
    "        \n",
    "        result_list = search_function(generated_question, country)\n",
    "        relevance = [result.id == doc_id for result in result_list.points]\n",
    "        relevance_total.append(relevance)\n",
    "\n",
    "        # print(\"ground_truth_faq_id: \",doc_id)\n",
    "        # print(\"generated_question: \",generated_question)\n",
    "        # print(\"ground_truth_question: \",ground_truth['ground_truth_question'])\n",
    "        # print(\"country: \",country)\n",
    "        # print(\"result_list.points: \",result_list.points)\n",
    "        # print(\"relevance: \",relevance)\n",
    "        # print()\n",
    "        \n",
    "        # break\n",
    "\n",
    "    return {\n",
    "        'hit_rate': hit_rate(relevance_total),\n",
    "        'mrr': mrr(relevance_total),\n",
    "    }"
   ]
  },
  {
   "cell_type": "code",
   "execution_count": 59,
   "id": "05ed8ee8-f529-4c83-bf87-1e27b7fa5ae1",
   "metadata": {},
   "outputs": [
    {
     "data": {
      "application/vnd.jupyter.widget-view+json": {
       "model_id": "be29b20f69af49c7a87cd2aa32c31a10",
       "version_major": 2,
       "version_minor": 0
      },
      "text/plain": [
       "  0%|          | 0/100 [00:00<?, ?it/s]"
      ]
     },
     "metadata": {},
     "output_type": "display_data"
    },
    {
     "data": {
      "text/plain": [
       "{'hit_rate': 0.88, 'mrr': 0.8366666666666666}"
      ]
     },
     "execution_count": 59,
     "metadata": {},
     "output_type": "execute_result"
    }
   ],
   "source": [
    "\n",
    "evaluate(sampled_ground_truth_df, lambda question, country: vector_search(question, country, 0.8, 5))"
   ]
  },
  {
   "cell_type": "code",
   "execution_count": null,
   "id": "a3b02fa4-08ed-45c4-8185-492739bd97a3",
   "metadata": {},
   "outputs": [
    {
     "name": "stdout",
     "output_type": "stream",
     "text": [
      "Evaluating cofigs: score_threshold=0.4, limit=5\n"
     ]
    },
    {
     "data": {
      "application/vnd.jupyter.widget-view+json": {
       "model_id": "4f0dbea199b54640a3f195381005cf34",
       "version_major": 2,
       "version_minor": 0
      },
      "text/plain": [
       "  0%|          | 0/100 [00:00<?, ?it/s]"
      ]
     },
     "metadata": {},
     "output_type": "display_data"
    },
    {
     "name": "stdout",
     "output_type": "stream",
     "text": [
      "Result:  {'hit_rate': 0.94, 'mrr': 0.862}\n",
      "Evaluating cofigs: score_threshold=0.4, limit=6\n"
     ]
    },
    {
     "data": {
      "application/vnd.jupyter.widget-view+json": {
       "model_id": "7989e9312ffe4365b734e1dba737486d",
       "version_major": 2,
       "version_minor": 0
      },
      "text/plain": [
       "  0%|          | 0/100 [00:00<?, ?it/s]"
      ]
     },
     "metadata": {},
     "output_type": "display_data"
    },
    {
     "name": "stdout",
     "output_type": "stream",
     "text": [
      "Result:  {'hit_rate': 0.94, 'mrr': 0.862}\n",
      "Evaluating cofigs: score_threshold=0.4, limit=7\n"
     ]
    },
    {
     "data": {
      "application/vnd.jupyter.widget-view+json": {
       "model_id": "6584bbbf701743a6a9c3edd3b930149e",
       "version_major": 2,
       "version_minor": 0
      },
      "text/plain": [
       "  0%|          | 0/100 [00:00<?, ?it/s]"
      ]
     },
     "metadata": {},
     "output_type": "display_data"
    },
    {
     "name": "stdout",
     "output_type": "stream",
     "text": [
      "Result:  {'hit_rate': 0.94, 'mrr': 0.862}\n",
      "Evaluating cofigs: score_threshold=0.4, limit=8\n"
     ]
    },
    {
     "data": {
      "application/vnd.jupyter.widget-view+json": {
       "model_id": "95d8717e440842188c23bb6734448b7a",
       "version_major": 2,
       "version_minor": 0
      },
      "text/plain": [
       "  0%|          | 0/100 [00:00<?, ?it/s]"
      ]
     },
     "metadata": {},
     "output_type": "display_data"
    },
    {
     "name": "stdout",
     "output_type": "stream",
     "text": [
      "Result:  {'hit_rate': 0.94, 'mrr': 0.862}\n",
      "Evaluating cofigs: score_threshold=0.4, limit=9\n"
     ]
    },
    {
     "data": {
      "application/vnd.jupyter.widget-view+json": {
       "model_id": "e8bdb38fdca54927b496a97055f764cb",
       "version_major": 2,
       "version_minor": 0
      },
      "text/plain": [
       "  0%|          | 0/100 [00:00<?, ?it/s]"
      ]
     },
     "metadata": {},
     "output_type": "display_data"
    },
    {
     "name": "stdout",
     "output_type": "stream",
     "text": [
      "Result:  {'hit_rate': 0.94, 'mrr': 0.862}\n",
      "Evaluating cofigs: score_threshold=0.5, limit=5\n"
     ]
    },
    {
     "data": {
      "application/vnd.jupyter.widget-view+json": {
       "model_id": "06beeb21dac943be86f54d391c5eb674",
       "version_major": 2,
       "version_minor": 0
      },
      "text/plain": [
       "  0%|          | 0/100 [00:00<?, ?it/s]"
      ]
     },
     "metadata": {},
     "output_type": "display_data"
    },
    {
     "name": "stdout",
     "output_type": "stream",
     "text": [
      "Result:  {'hit_rate': 0.94, 'mrr': 0.862}\n",
      "Evaluating cofigs: score_threshold=0.5, limit=6\n"
     ]
    },
    {
     "data": {
      "application/vnd.jupyter.widget-view+json": {
       "model_id": "b4d97781db0940a99119bf61e24c62c7",
       "version_major": 2,
       "version_minor": 0
      },
      "text/plain": [
       "  0%|          | 0/100 [00:00<?, ?it/s]"
      ]
     },
     "metadata": {},
     "output_type": "display_data"
    },
    {
     "name": "stdout",
     "output_type": "stream",
     "text": [
      "Result:  {'hit_rate': 0.94, 'mrr': 0.862}\n",
      "Evaluating cofigs: score_threshold=0.5, limit=7\n"
     ]
    },
    {
     "data": {
      "application/vnd.jupyter.widget-view+json": {
       "model_id": "dd6602806b974364ad429948441eba60",
       "version_major": 2,
       "version_minor": 0
      },
      "text/plain": [
       "  0%|          | 0/100 [00:00<?, ?it/s]"
      ]
     },
     "metadata": {},
     "output_type": "display_data"
    },
    {
     "name": "stdout",
     "output_type": "stream",
     "text": [
      "Result:  {'hit_rate': 0.94, 'mrr': 0.862}\n",
      "Evaluating cofigs: score_threshold=0.5, limit=8\n"
     ]
    },
    {
     "data": {
      "application/vnd.jupyter.widget-view+json": {
       "model_id": "d78db6c9368048c5b82a3de65507c5d8",
       "version_major": 2,
       "version_minor": 0
      },
      "text/plain": [
       "  0%|          | 0/100 [00:00<?, ?it/s]"
      ]
     },
     "metadata": {},
     "output_type": "display_data"
    },
    {
     "name": "stdout",
     "output_type": "stream",
     "text": [
      "Result:  {'hit_rate': 0.94, 'mrr': 0.862}\n",
      "Evaluating cofigs: score_threshold=0.5, limit=9\n"
     ]
    },
    {
     "data": {
      "application/vnd.jupyter.widget-view+json": {
       "model_id": "18f2626bea374539aabb50c32f14a2b6",
       "version_major": 2,
       "version_minor": 0
      },
      "text/plain": [
       "  0%|          | 0/100 [00:00<?, ?it/s]"
      ]
     },
     "metadata": {},
     "output_type": "display_data"
    },
    {
     "name": "stdout",
     "output_type": "stream",
     "text": [
      "Result:  {'hit_rate': 0.94, 'mrr': 0.862}\n",
      "Evaluating cofigs: score_threshold=0.6, limit=5\n"
     ]
    },
    {
     "data": {
      "application/vnd.jupyter.widget-view+json": {
       "model_id": "ed9b778521d243c4bd3ca164ea4ffe0d",
       "version_major": 2,
       "version_minor": 0
      },
      "text/plain": [
       "  0%|          | 0/100 [00:00<?, ?it/s]"
      ]
     },
     "metadata": {},
     "output_type": "display_data"
    },
    {
     "name": "stdout",
     "output_type": "stream",
     "text": [
      "Result:  {'hit_rate': 0.94, 'mrr': 0.862}\n",
      "Evaluating cofigs: score_threshold=0.6, limit=6\n"
     ]
    },
    {
     "data": {
      "application/vnd.jupyter.widget-view+json": {
       "model_id": "ad393e5377d04392bd75c326791adbb3",
       "version_major": 2,
       "version_minor": 0
      },
      "text/plain": [
       "  0%|          | 0/100 [00:00<?, ?it/s]"
      ]
     },
     "metadata": {},
     "output_type": "display_data"
    },
    {
     "name": "stdout",
     "output_type": "stream",
     "text": [
      "Result:  {'hit_rate': 0.94, 'mrr': 0.862}\n",
      "Evaluating cofigs: score_threshold=0.6, limit=7\n"
     ]
    },
    {
     "data": {
      "application/vnd.jupyter.widget-view+json": {
       "model_id": "f34f94a16cd744d5afc2a807ecbeadcf",
       "version_major": 2,
       "version_minor": 0
      },
      "text/plain": [
       "  0%|          | 0/100 [00:00<?, ?it/s]"
      ]
     },
     "metadata": {},
     "output_type": "display_data"
    },
    {
     "name": "stdout",
     "output_type": "stream",
     "text": [
      "Result:  {'hit_rate': 0.94, 'mrr': 0.862}\n",
      "Evaluating cofigs: score_threshold=0.6, limit=8\n"
     ]
    },
    {
     "data": {
      "application/vnd.jupyter.widget-view+json": {
       "model_id": "d362aefd1bce44bb989050d932efab3e",
       "version_major": 2,
       "version_minor": 0
      },
      "text/plain": [
       "  0%|          | 0/100 [00:00<?, ?it/s]"
      ]
     },
     "metadata": {},
     "output_type": "display_data"
    },
    {
     "name": "stdout",
     "output_type": "stream",
     "text": [
      "Result:  {'hit_rate': 0.94, 'mrr': 0.862}\n",
      "Evaluating cofigs: score_threshold=0.6, limit=9\n"
     ]
    },
    {
     "data": {
      "application/vnd.jupyter.widget-view+json": {
       "model_id": "a7503d1bf4194903b54fb190bb67c582",
       "version_major": 2,
       "version_minor": 0
      },
      "text/plain": [
       "  0%|          | 0/100 [00:00<?, ?it/s]"
      ]
     },
     "metadata": {},
     "output_type": "display_data"
    },
    {
     "name": "stdout",
     "output_type": "stream",
     "text": [
      "Result:  {'hit_rate': 0.94, 'mrr': 0.862}\n",
      "Evaluating cofigs: score_threshold=0.7, limit=5\n"
     ]
    },
    {
     "data": {
      "application/vnd.jupyter.widget-view+json": {
       "model_id": "a2e207061ab24a58973d31eff44a456b",
       "version_major": 2,
       "version_minor": 0
      },
      "text/plain": [
       "  0%|          | 0/100 [00:00<?, ?it/s]"
      ]
     },
     "metadata": {},
     "output_type": "display_data"
    },
    {
     "name": "stdout",
     "output_type": "stream",
     "text": [
      "Result:  {'hit_rate': 0.94, 'mrr': 0.862}\n",
      "Evaluating cofigs: score_threshold=0.7, limit=6\n"
     ]
    },
    {
     "data": {
      "application/vnd.jupyter.widget-view+json": {
       "model_id": "c74061f2aea44023a78569129b6329d2",
       "version_major": 2,
       "version_minor": 0
      },
      "text/plain": [
       "  0%|          | 0/100 [00:00<?, ?it/s]"
      ]
     },
     "metadata": {},
     "output_type": "display_data"
    }
   ],
   "source": [
    "import numpy as np\n",
    "\n",
    "score = []\n",
    "sampled_ground_truth_df = ground_truth_df.head(100)\n",
    "\n",
    "for score_threshold in np.arange(0.4, 1.0, 0.1):\n",
    "    for limit in np.arange(5, 10, 1):\n",
    "        print(\"Evaluating cofigs: score_threshold=\"+str(score_threshold)+\", limit=\"+str(limit))\n",
    "        result = evaluate(sampled_ground_truth_df, lambda question, country: vector_search(question, country, score_threshold, limit))\n",
    "        print(\"Result: \", result)\n",
    "        score.append({\n",
    "            \"hit_rate\": result['hit_rate'],\n",
    "            \"mrr\": result['mrr'],\n",
    "            \"score_threshold\": score_threshold,\n",
    "            \"limit\": limit,\n",
    "        })\n",
    "\n",
    "result = sorted(score, key=lambda item: item['mrr'], reverse=True)\n",
    "print(\"Best params: \", result[0])"
   ]
  }
 ],
 "metadata": {
  "kernelspec": {
   "display_name": "OpenAI Project",
   "language": "python",
   "name": "my_openai_env"
  },
  "language_info": {
   "codemirror_mode": {
    "name": "ipython",
    "version": 3
   },
   "file_extension": ".py",
   "mimetype": "text/x-python",
   "name": "python",
   "nbconvert_exporter": "python",
   "pygments_lexer": "ipython3",
   "version": "3.13.5"
  }
 },
 "nbformat": 4,
 "nbformat_minor": 5
}
