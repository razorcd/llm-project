{
 "cells": [
  {
   "cell_type": "code",
   "execution_count": 1,
   "id": "a4967d1e-448b-4e07-aad1-f2f497a336b8",
   "metadata": {},
   "outputs": [
    {
     "data": {
      "text/html": [
       "<div>\n",
       "<style scoped>\n",
       "    .dataframe tbody tr th:only-of-type {\n",
       "        vertical-align: middle;\n",
       "    }\n",
       "\n",
       "    .dataframe tbody tr th {\n",
       "        vertical-align: top;\n",
       "    }\n",
       "\n",
       "    .dataframe thead th {\n",
       "        text-align: right;\n",
       "    }\n",
       "</style>\n",
       "<table border=\"1\" class=\"dataframe\">\n",
       "  <thead>\n",
       "    <tr style=\"text-align: right;\">\n",
       "      <th></th>\n",
       "      <th>ground_truth_faq_id</th>\n",
       "      <th>generated_question</th>\n",
       "      <th>ground_truth_question</th>\n",
       "      <th>ground_truth_answer</th>\n",
       "      <th>ground_truth_courier</th>\n",
       "    </tr>\n",
       "  </thead>\n",
       "  <tbody>\n",
       "    <tr>\n",
       "      <th>0</th>\n",
       "      <td>0</td>\n",
       "      <td>What type of employment contract do I have wit...</td>\n",
       "      <td>What is my contract type as an employee?</td>\n",
       "      <td>As an employee, you will have a part-time or f...</td>\n",
       "      <td>{'index': 6, 'first_name': 'Jackson', 'last_na...</td>\n",
       "    </tr>\n",
       "    <tr>\n",
       "      <th>1</th>\n",
       "      <td>0</td>\n",
       "      <td>Am I classified as an employee or a freelancer?</td>\n",
       "      <td>What is my contract type as an employee?</td>\n",
       "      <td>As an employee, you will have a part-time or f...</td>\n",
       "      <td>{'index': 6, 'first_name': 'Jackson', 'last_na...</td>\n",
       "    </tr>\n",
       "    <tr>\n",
       "      <th>2</th>\n",
       "      <td>0</td>\n",
       "      <td>Can you explain the benefits included in my em...</td>\n",
       "      <td>What is my contract type as an employee?</td>\n",
       "      <td>As an employee, you will have a part-time or f...</td>\n",
       "      <td>{'index': 6, 'first_name': 'Jackson', 'last_na...</td>\n",
       "    </tr>\n",
       "    <tr>\n",
       "      <th>3</th>\n",
       "      <td>0</td>\n",
       "      <td>What are the differences between an employee a...</td>\n",
       "      <td>What is my contract type as an employee?</td>\n",
       "      <td>As an employee, you will have a part-time or f...</td>\n",
       "      <td>{'index': 6, 'first_name': 'Jackson', 'last_na...</td>\n",
       "    </tr>\n",
       "    <tr>\n",
       "      <th>4</th>\n",
       "      <td>0</td>\n",
       "      <td>As a courier in Germany, what support can I ex...</td>\n",
       "      <td>What is my contract type as an employee?</td>\n",
       "      <td>As an employee, you will have a part-time or f...</td>\n",
       "      <td>{'index': 6, 'first_name': 'Jackson', 'last_na...</td>\n",
       "    </tr>\n",
       "    <tr>\n",
       "      <th>...</th>\n",
       "      <td>...</td>\n",
       "      <td>...</td>\n",
       "      <td>...</td>\n",
       "      <td>...</td>\n",
       "      <td>...</td>\n",
       "    </tr>\n",
       "    <tr>\n",
       "      <th>900</th>\n",
       "      <td>654</td>\n",
       "      <td>Am I allowed to decline deliveries to public b...</td>\n",
       "      <td>Can I refuse to deliver to a public building?</td>\n",
       "      <td>No, you must deliver to the specified address....</td>\n",
       "      <td>{'index': 1, 'first_name': 'Liam', 'last_name'...</td>\n",
       "    </tr>\n",
       "    <tr>\n",
       "      <th>901</th>\n",
       "      <td>654</td>\n",
       "      <td>What is my age as listed in my courier profile?</td>\n",
       "      <td>Can I refuse to deliver to a public building?</td>\n",
       "      <td>No, you must deliver to the specified address....</td>\n",
       "      <td>{'index': 1, 'first_name': 'Liam', 'last_name'...</td>\n",
       "    </tr>\n",
       "    <tr>\n",
       "      <th>902</th>\n",
       "      <td>654</td>\n",
       "      <td>What type of contract do I have with iDelivery?</td>\n",
       "      <td>Can I refuse to deliver to a public building?</td>\n",
       "      <td>No, you must deliver to the specified address....</td>\n",
       "      <td>{'index': 1, 'first_name': 'Liam', 'last_name'...</td>\n",
       "    </tr>\n",
       "    <tr>\n",
       "      <th>903</th>\n",
       "      <td>654</td>\n",
       "      <td>Which type of vehicle do I use for deliveries?</td>\n",
       "      <td>Can I refuse to deliver to a public building?</td>\n",
       "      <td>No, you must deliver to the specified address....</td>\n",
       "      <td>{'index': 1, 'first_name': 'Liam', 'last_name'...</td>\n",
       "    </tr>\n",
       "    <tr>\n",
       "      <th>904</th>\n",
       "      <td>654</td>\n",
       "      <td>In which country am I operating as a courier?</td>\n",
       "      <td>Can I refuse to deliver to a public building?</td>\n",
       "      <td>No, you must deliver to the specified address....</td>\n",
       "      <td>{'index': 1, 'first_name': 'Liam', 'last_name'...</td>\n",
       "    </tr>\n",
       "  </tbody>\n",
       "</table>\n",
       "<p>905 rows × 5 columns</p>\n",
       "</div>"
      ],
      "text/plain": [
       "     ground_truth_faq_id                                 generated_question  \\\n",
       "0                      0  What type of employment contract do I have wit...   \n",
       "1                      0    Am I classified as an employee or a freelancer?   \n",
       "2                      0  Can you explain the benefits included in my em...   \n",
       "3                      0  What are the differences between an employee a...   \n",
       "4                      0  As a courier in Germany, what support can I ex...   \n",
       "..                   ...                                                ...   \n",
       "900                  654  Am I allowed to decline deliveries to public b...   \n",
       "901                  654    What is my age as listed in my courier profile?   \n",
       "902                  654    What type of contract do I have with iDelivery?   \n",
       "903                  654     Which type of vehicle do I use for deliveries?   \n",
       "904                  654      In which country am I operating as a courier?   \n",
       "\n",
       "                             ground_truth_question  \\\n",
       "0         What is my contract type as an employee?   \n",
       "1         What is my contract type as an employee?   \n",
       "2         What is my contract type as an employee?   \n",
       "3         What is my contract type as an employee?   \n",
       "4         What is my contract type as an employee?   \n",
       "..                                             ...   \n",
       "900  Can I refuse to deliver to a public building?   \n",
       "901  Can I refuse to deliver to a public building?   \n",
       "902  Can I refuse to deliver to a public building?   \n",
       "903  Can I refuse to deliver to a public building?   \n",
       "904  Can I refuse to deliver to a public building?   \n",
       "\n",
       "                                   ground_truth_answer  \\\n",
       "0    As an employee, you will have a part-time or f...   \n",
       "1    As an employee, you will have a part-time or f...   \n",
       "2    As an employee, you will have a part-time or f...   \n",
       "3    As an employee, you will have a part-time or f...   \n",
       "4    As an employee, you will have a part-time or f...   \n",
       "..                                                 ...   \n",
       "900  No, you must deliver to the specified address....   \n",
       "901  No, you must deliver to the specified address....   \n",
       "902  No, you must deliver to the specified address....   \n",
       "903  No, you must deliver to the specified address....   \n",
       "904  No, you must deliver to the specified address....   \n",
       "\n",
       "                                  ground_truth_courier  \n",
       "0    {'index': 6, 'first_name': 'Jackson', 'last_na...  \n",
       "1    {'index': 6, 'first_name': 'Jackson', 'last_na...  \n",
       "2    {'index': 6, 'first_name': 'Jackson', 'last_na...  \n",
       "3    {'index': 6, 'first_name': 'Jackson', 'last_na...  \n",
       "4    {'index': 6, 'first_name': 'Jackson', 'last_na...  \n",
       "..                                                 ...  \n",
       "900  {'index': 1, 'first_name': 'Liam', 'last_name'...  \n",
       "901  {'index': 1, 'first_name': 'Liam', 'last_name'...  \n",
       "902  {'index': 1, 'first_name': 'Liam', 'last_name'...  \n",
       "903  {'index': 1, 'first_name': 'Liam', 'last_name'...  \n",
       "904  {'index': 1, 'first_name': 'Liam', 'last_name'...  \n",
       "\n",
       "[905 rows x 5 columns]"
      ]
     },
     "execution_count": 1,
     "metadata": {},
     "output_type": "execute_result"
    }
   ],
   "source": [
    "import pandas as pd\n",
    "\n",
    "ground_truth_df = pd.read_json('evaluation_ground_truth.json')\n",
    "ground_truth_df"
   ]
  },
  {
   "cell_type": "code",
   "execution_count": 2,
   "id": "79a49af1-d489-4f09-83ce-dd4061672dcc",
   "metadata": {},
   "outputs": [],
   "source": [
    "def hit_rate(relevance_total):\n",
    "    cnt = 0\n",
    "\n",
    "    for line in relevance_total:\n",
    "        if True in line:\n",
    "            cnt = cnt + 1\n",
    "\n",
    "    return cnt / len(relevance_total)\n",
    "\n",
    "def mrr(relevance_total):\n",
    "    total_score = 0.0\n",
    "\n",
    "    for line in relevance_total:\n",
    "        for rank in range(len(line)):\n",
    "            if line[rank] == True:\n",
    "                total_score = total_score + 1 / (rank + 1)\n",
    "\n",
    "    return total_score / len(relevance_total)\n",
    "\n",
    "\n",
    "def vector_search(question, country, score_threshold, limit):\n",
    "    # print('vector_search is called on question: '+question)\n",
    "    \n",
    "    return qd_client.query_points(\n",
    "        collection_name=collection_name,\n",
    "        query=models.Document(\n",
    "            text=question,\n",
    "            model=model_handle \n",
    "        ),\n",
    "        query_filter=models.Filter( \n",
    "            must=[\n",
    "                models.FieldCondition(\n",
    "                    key=\"country\",\n",
    "                    match=models.MatchAny(any=[country, \"all\"] )\n",
    "                )\n",
    "            ]\n",
    "        ),\n",
    "        score_threshold = score_threshold,\n",
    "        limit=limit,\n",
    "        with_payload=True\n",
    "    )\n"
   ]
  },
  {
   "cell_type": "code",
   "execution_count": 3,
   "id": "5b82abad-143a-483b-bc4f-3272a88c8c99",
   "metadata": {},
   "outputs": [],
   "source": [
    "from qdrant_client import QdrantClient, models\n",
    "\n",
    "qd_client = QdrantClient(\"http://localhost:6333\")\n",
    "EMBEDDING_DIMENSIONALITY = 512\n",
    "model_handle = \"jinaai/jina-embeddings-v2-small-en\"\n",
    "collection_name = \"courier-faq\"\n"
   ]
  },
  {
   "cell_type": "code",
   "execution_count": 4,
   "id": "75538700-4207-4a14-a871-25967cff3be0",
   "metadata": {},
   "outputs": [],
   "source": [
    "from tqdm.auto import tqdm\n",
    "\n",
    "def evaluate(ground_truth_df, search_function):\n",
    "    relevance_total = []\n",
    "\n",
    "    for ground_truth in tqdm(ground_truth_df.to_dict('records')):\n",
    "        doc_id = ground_truth['ground_truth_faq_id']\n",
    "\n",
    "        generated_question = ground_truth['generated_question']\n",
    "        country = ground_truth['ground_truth_courier']['country']\n",
    "        \n",
    "        result_list = search_function(generated_question, country)\n",
    "        relevance = [result.id == doc_id for result in result_list.points]\n",
    "        relevance_total.append(relevance)\n",
    "\n",
    "        # print(\"ground_truth_faq_id: \",doc_id)\n",
    "        # print(\"generated_question: \",generated_question)\n",
    "        # print(\"ground_truth_question: \",ground_truth['ground_truth_question'])\n",
    "        # print(\"country: \",country)\n",
    "        # print(\"result_list.points: \",result_list.points)\n",
    "        # print(\"relevance: \",relevance)\n",
    "        # print()\n",
    "        \n",
    "        # break\n",
    "\n",
    "    return {\n",
    "        'hit_rate': hit_rate(relevance_total),\n",
    "        'mrr': mrr(relevance_total),\n",
    "    }"
   ]
  },
  {
   "cell_type": "code",
   "execution_count": 6,
   "id": "05ed8ee8-f529-4c83-bf87-1e27b7fa5ae1",
   "metadata": {},
   "outputs": [
    {
     "data": {
      "application/vnd.jupyter.widget-view+json": {
       "model_id": "faa547a59359440bb429f93a86bbe053",
       "version_major": 2,
       "version_minor": 0
      },
      "text/plain": [
       "  0%|          | 0/905 [00:00<?, ?it/s]"
      ]
     },
     "metadata": {},
     "output_type": "display_data"
    },
    {
     "data": {
      "text/plain": [
       "{'hit_rate': 0.8430939226519337, 'mrr': 0.7137937384898716}"
      ]
     },
     "execution_count": 6,
     "metadata": {},
     "output_type": "execute_result"
    }
   ],
   "source": [
    "evaluate(ground_truth_df, lambda question, country: vector_search(question, country, 0.8, 5))"
   ]
  },
  {
   "cell_type": "code",
   "execution_count": 7,
   "id": "a3b02fa4-08ed-45c4-8185-492739bd97a3",
   "metadata": {},
   "outputs": [
    {
     "name": "stdout",
     "output_type": "stream",
     "text": [
      "Evaluating cofigs: score_threshold=0.4, limit=5\n"
     ]
    },
    {
     "data": {
      "application/vnd.jupyter.widget-view+json": {
       "model_id": "8a273d909546418a8674e9e7ec0368f0",
       "version_major": 2,
       "version_minor": 0
      },
      "text/plain": [
       "  0%|          | 0/905 [00:00<?, ?it/s]"
      ]
     },
     "metadata": {},
     "output_type": "display_data"
    },
    {
     "name": "stdout",
     "output_type": "stream",
     "text": [
      "Result:  {'hit_rate': 0.8983425414364641, 'mrr': 0.7463535911602219}\n",
      "Evaluating cofigs: score_threshold=0.4, limit=6\n"
     ]
    },
    {
     "data": {
      "application/vnd.jupyter.widget-view+json": {
       "model_id": "d148ccc66c4f4f948016260be60a48b4",
       "version_major": 2,
       "version_minor": 0
      },
      "text/plain": [
       "  0%|          | 0/905 [00:00<?, ?it/s]"
      ]
     },
     "metadata": {},
     "output_type": "display_data"
    },
    {
     "name": "stdout",
     "output_type": "stream",
     "text": [
      "Result:  {'hit_rate': 0.9082872928176795, 'mrr': 0.7480110497237579}\n",
      "Evaluating cofigs: score_threshold=0.4, limit=7\n"
     ]
    },
    {
     "data": {
      "application/vnd.jupyter.widget-view+json": {
       "model_id": "f9516daa635d4804b5f64d025aabab2a",
       "version_major": 2,
       "version_minor": 0
      },
      "text/plain": [
       "  0%|          | 0/905 [00:00<?, ?it/s]"
      ]
     },
     "metadata": {},
     "output_type": "display_data"
    },
    {
     "name": "stdout",
     "output_type": "stream",
     "text": [
      "Result:  {'hit_rate': 0.9138121546961326, 'mrr': 0.748800315706394}\n",
      "Evaluating cofigs: score_threshold=0.4, limit=8\n"
     ]
    },
    {
     "data": {
      "application/vnd.jupyter.widget-view+json": {
       "model_id": "2aa3f045a40743a381308685585311ef",
       "version_major": 2,
       "version_minor": 0
      },
      "text/plain": [
       "  0%|          | 0/905 [00:00<?, ?it/s]"
      ]
     },
     "metadata": {},
     "output_type": "display_data"
    },
    {
     "name": "stdout",
     "output_type": "stream",
     "text": [
      "Result:  {'hit_rate': 0.9215469613259668, 'mrr': 0.7497671665351233}\n",
      "Evaluating cofigs: score_threshold=0.4, limit=9\n"
     ]
    },
    {
     "data": {
      "application/vnd.jupyter.widget-view+json": {
       "model_id": "3605bc3b04514a5484ebdfa188767a91",
       "version_major": 2,
       "version_minor": 0
      },
      "text/plain": [
       "  0%|          | 0/905 [00:00<?, ?it/s]"
      ]
     },
     "metadata": {},
     "output_type": "display_data"
    },
    {
     "name": "stdout",
     "output_type": "stream",
     "text": [
      "Result:  {'hit_rate': 0.9292817679558011, 'mrr': 0.7506265894939936}\n",
      "Evaluating cofigs: score_threshold=0.5, limit=5\n"
     ]
    },
    {
     "data": {
      "application/vnd.jupyter.widget-view+json": {
       "model_id": "11a3793af30543eaba9f5e6fd8419e85",
       "version_major": 2,
       "version_minor": 0
      },
      "text/plain": [
       "  0%|          | 0/905 [00:00<?, ?it/s]"
      ]
     },
     "metadata": {},
     "output_type": "display_data"
    },
    {
     "name": "stdout",
     "output_type": "stream",
     "text": [
      "Result:  {'hit_rate': 0.8983425414364641, 'mrr': 0.7463535911602219}\n",
      "Evaluating cofigs: score_threshold=0.5, limit=6\n"
     ]
    },
    {
     "data": {
      "application/vnd.jupyter.widget-view+json": {
       "model_id": "03e7be8e542242beb157e47ff32939f4",
       "version_major": 2,
       "version_minor": 0
      },
      "text/plain": [
       "  0%|          | 0/905 [00:00<?, ?it/s]"
      ]
     },
     "metadata": {},
     "output_type": "display_data"
    },
    {
     "name": "stdout",
     "output_type": "stream",
     "text": [
      "Result:  {'hit_rate': 0.9082872928176795, 'mrr': 0.7480110497237579}\n",
      "Evaluating cofigs: score_threshold=0.5, limit=7\n"
     ]
    },
    {
     "data": {
      "application/vnd.jupyter.widget-view+json": {
       "model_id": "79569ac43e854d33826f7603936bb798",
       "version_major": 2,
       "version_minor": 0
      },
      "text/plain": [
       "  0%|          | 0/905 [00:00<?, ?it/s]"
      ]
     },
     "metadata": {},
     "output_type": "display_data"
    },
    {
     "name": "stdout",
     "output_type": "stream",
     "text": [
      "Result:  {'hit_rate': 0.9138121546961326, 'mrr': 0.748800315706394}\n",
      "Evaluating cofigs: score_threshold=0.5, limit=8\n"
     ]
    },
    {
     "data": {
      "application/vnd.jupyter.widget-view+json": {
       "model_id": "4bbb50ce13084b67ae72cf24b0374fc9",
       "version_major": 2,
       "version_minor": 0
      },
      "text/plain": [
       "  0%|          | 0/905 [00:00<?, ?it/s]"
      ]
     },
     "metadata": {},
     "output_type": "display_data"
    },
    {
     "name": "stdout",
     "output_type": "stream",
     "text": [
      "Result:  {'hit_rate': 0.9215469613259668, 'mrr': 0.7497671665351233}\n",
      "Evaluating cofigs: score_threshold=0.5, limit=9\n"
     ]
    },
    {
     "data": {
      "application/vnd.jupyter.widget-view+json": {
       "model_id": "33fc86b2c1c342289c981a14bde01fa7",
       "version_major": 2,
       "version_minor": 0
      },
      "text/plain": [
       "  0%|          | 0/905 [00:00<?, ?it/s]"
      ]
     },
     "metadata": {},
     "output_type": "display_data"
    },
    {
     "name": "stdout",
     "output_type": "stream",
     "text": [
      "Result:  {'hit_rate': 0.9292817679558011, 'mrr': 0.7506265894939936}\n",
      "Evaluating cofigs: score_threshold=0.6, limit=5\n"
     ]
    },
    {
     "data": {
      "application/vnd.jupyter.widget-view+json": {
       "model_id": "6cb2671ce958413d92b6b1d4ac80a282",
       "version_major": 2,
       "version_minor": 0
      },
      "text/plain": [
       "  0%|          | 0/905 [00:00<?, ?it/s]"
      ]
     },
     "metadata": {},
     "output_type": "display_data"
    },
    {
     "name": "stdout",
     "output_type": "stream",
     "text": [
      "Result:  {'hit_rate': 0.8983425414364641, 'mrr': 0.7463535911602219}\n",
      "Evaluating cofigs: score_threshold=0.6, limit=6\n"
     ]
    },
    {
     "data": {
      "application/vnd.jupyter.widget-view+json": {
       "model_id": "a4cb7b9d35bd42d7820d0ee201683236",
       "version_major": 2,
       "version_minor": 0
      },
      "text/plain": [
       "  0%|          | 0/905 [00:00<?, ?it/s]"
      ]
     },
     "metadata": {},
     "output_type": "display_data"
    },
    {
     "name": "stdout",
     "output_type": "stream",
     "text": [
      "Result:  {'hit_rate': 0.9082872928176795, 'mrr': 0.7480110497237579}\n",
      "Evaluating cofigs: score_threshold=0.6, limit=7\n"
     ]
    },
    {
     "data": {
      "application/vnd.jupyter.widget-view+json": {
       "model_id": "3e8e6357c93f4117a59f2b38a5853fb8",
       "version_major": 2,
       "version_minor": 0
      },
      "text/plain": [
       "  0%|          | 0/905 [00:00<?, ?it/s]"
      ]
     },
     "metadata": {},
     "output_type": "display_data"
    },
    {
     "name": "stdout",
     "output_type": "stream",
     "text": [
      "Result:  {'hit_rate': 0.9138121546961326, 'mrr': 0.748800315706394}\n",
      "Evaluating cofigs: score_threshold=0.6, limit=8\n"
     ]
    },
    {
     "data": {
      "application/vnd.jupyter.widget-view+json": {
       "model_id": "099ec10f690a434482f740d473b0de48",
       "version_major": 2,
       "version_minor": 0
      },
      "text/plain": [
       "  0%|          | 0/905 [00:00<?, ?it/s]"
      ]
     },
     "metadata": {},
     "output_type": "display_data"
    },
    {
     "name": "stdout",
     "output_type": "stream",
     "text": [
      "Result:  {'hit_rate': 0.9215469613259668, 'mrr': 0.7497671665351233}\n",
      "Evaluating cofigs: score_threshold=0.6, limit=9\n"
     ]
    },
    {
     "data": {
      "application/vnd.jupyter.widget-view+json": {
       "model_id": "009de9a72fd648f29bf71771bffe9cc9",
       "version_major": 2,
       "version_minor": 0
      },
      "text/plain": [
       "  0%|          | 0/905 [00:00<?, ?it/s]"
      ]
     },
     "metadata": {},
     "output_type": "display_data"
    },
    {
     "name": "stdout",
     "output_type": "stream",
     "text": [
      "Result:  {'hit_rate': 0.9292817679558011, 'mrr': 0.7506265894939936}\n",
      "Evaluating cofigs: score_threshold=0.7, limit=5\n"
     ]
    },
    {
     "data": {
      "application/vnd.jupyter.widget-view+json": {
       "model_id": "3409d435fa9140c4979121075fbd124c",
       "version_major": 2,
       "version_minor": 0
      },
      "text/plain": [
       "  0%|          | 0/905 [00:00<?, ?it/s]"
      ]
     },
     "metadata": {},
     "output_type": "display_data"
    },
    {
     "name": "stdout",
     "output_type": "stream",
     "text": [
      "Result:  {'hit_rate': 0.8983425414364641, 'mrr': 0.7463535911602219}\n",
      "Evaluating cofigs: score_threshold=0.7, limit=6\n"
     ]
    },
    {
     "data": {
      "application/vnd.jupyter.widget-view+json": {
       "model_id": "3f8182adc9dc47898b8ce9489fbe9e50",
       "version_major": 2,
       "version_minor": 0
      },
      "text/plain": [
       "  0%|          | 0/905 [00:00<?, ?it/s]"
      ]
     },
     "metadata": {},
     "output_type": "display_data"
    },
    {
     "name": "stdout",
     "output_type": "stream",
     "text": [
      "Result:  {'hit_rate': 0.9082872928176795, 'mrr': 0.7480110497237579}\n",
      "Evaluating cofigs: score_threshold=0.7, limit=7\n"
     ]
    },
    {
     "data": {
      "application/vnd.jupyter.widget-view+json": {
       "model_id": "5ca9d78c71d64602911b51bd7456827c",
       "version_major": 2,
       "version_minor": 0
      },
      "text/plain": [
       "  0%|          | 0/905 [00:00<?, ?it/s]"
      ]
     },
     "metadata": {},
     "output_type": "display_data"
    },
    {
     "name": "stdout",
     "output_type": "stream",
     "text": [
      "Result:  {'hit_rate': 0.9138121546961326, 'mrr': 0.748800315706394}\n",
      "Evaluating cofigs: score_threshold=0.7, limit=8\n"
     ]
    },
    {
     "data": {
      "application/vnd.jupyter.widget-view+json": {
       "model_id": "45cecfa1efa54872bfe867280e109c32",
       "version_major": 2,
       "version_minor": 0
      },
      "text/plain": [
       "  0%|          | 0/905 [00:00<?, ?it/s]"
      ]
     },
     "metadata": {},
     "output_type": "display_data"
    },
    {
     "name": "stdout",
     "output_type": "stream",
     "text": [
      "Result:  {'hit_rate': 0.9215469613259668, 'mrr': 0.7497671665351233}\n",
      "Evaluating cofigs: score_threshold=0.7, limit=9\n"
     ]
    },
    {
     "data": {
      "application/vnd.jupyter.widget-view+json": {
       "model_id": "21df55bdcdc14fbb94eac6af9fe62f56",
       "version_major": 2,
       "version_minor": 0
      },
      "text/plain": [
       "  0%|          | 0/905 [00:00<?, ?it/s]"
      ]
     },
     "metadata": {},
     "output_type": "display_data"
    },
    {
     "name": "stdout",
     "output_type": "stream",
     "text": [
      "Result:  {'hit_rate': 0.9292817679558011, 'mrr': 0.7506265894939936}\n",
      "Evaluating cofigs: score_threshold=0.7999999999999999, limit=5\n"
     ]
    },
    {
     "data": {
      "application/vnd.jupyter.widget-view+json": {
       "model_id": "3e4d8ab2a75d4f5383b256b95379c2af",
       "version_major": 2,
       "version_minor": 0
      },
      "text/plain": [
       "  0%|          | 0/905 [00:00<?, ?it/s]"
      ]
     },
     "metadata": {},
     "output_type": "display_data"
    },
    {
     "name": "stdout",
     "output_type": "stream",
     "text": [
      "Result:  {'hit_rate': 0.8430939226519337, 'mrr': 0.7137937384898716}\n",
      "Evaluating cofigs: score_threshold=0.7999999999999999, limit=6\n"
     ]
    },
    {
     "data": {
      "application/vnd.jupyter.widget-view+json": {
       "model_id": "f9f48e3517f84a00867a54c5c539009c",
       "version_major": 2,
       "version_minor": 0
      },
      "text/plain": [
       "  0%|          | 0/905 [00:00<?, ?it/s]"
      ]
     },
     "metadata": {},
     "output_type": "display_data"
    },
    {
     "name": "stdout",
     "output_type": "stream",
     "text": [
      "Result:  {'hit_rate': 0.8497237569060774, 'mrr': 0.7148987108655622}\n",
      "Evaluating cofigs: score_threshold=0.7999999999999999, limit=7\n"
     ]
    },
    {
     "data": {
      "application/vnd.jupyter.widget-view+json": {
       "model_id": "eae1e0fe415b4f59bd317fd7955cec09",
       "version_major": 2,
       "version_minor": 0
      },
      "text/plain": [
       "  0%|          | 0/905 [00:00<?, ?it/s]"
      ]
     },
     "metadata": {},
     "output_type": "display_data"
    },
    {
     "name": "stdout",
     "output_type": "stream",
     "text": [
      "Result:  {'hit_rate': 0.8530386740331491, 'mrr': 0.7153722704551438}\n",
      "Evaluating cofigs: score_threshold=0.7999999999999999, limit=8\n"
     ]
    },
    {
     "data": {
      "application/vnd.jupyter.widget-view+json": {
       "model_id": "f01b3836c1864097a78f27995dbf1f7b",
       "version_major": 2,
       "version_minor": 0
      },
      "text/plain": [
       "  0%|          | 0/905 [00:00<?, ?it/s]"
      ]
     },
     "metadata": {},
     "output_type": "display_data"
    },
    {
     "name": "stdout",
     "output_type": "stream",
     "text": [
      "Result:  {'hit_rate': 0.8585635359116022, 'mrr': 0.7160628781899504}\n",
      "Evaluating cofigs: score_threshold=0.7999999999999999, limit=9\n"
     ]
    },
    {
     "data": {
      "application/vnd.jupyter.widget-view+json": {
       "model_id": "a525c1fd11fe430f90dd49843d2cf87d",
       "version_major": 2,
       "version_minor": 0
      },
      "text/plain": [
       "  0%|          | 0/905 [00:00<?, ?it/s]"
      ]
     },
     "metadata": {},
     "output_type": "display_data"
    },
    {
     "name": "stdout",
     "output_type": "stream",
     "text": [
      "Result:  {'hit_rate': 0.8629834254143647, 'mrr': 0.7165539770235906}\n",
      "Evaluating cofigs: score_threshold=0.8999999999999999, limit=5\n"
     ]
    },
    {
     "data": {
      "application/vnd.jupyter.widget-view+json": {
       "model_id": "f4d5de34afa24610bc33f507e406a612",
       "version_major": 2,
       "version_minor": 0
      },
      "text/plain": [
       "  0%|          | 0/905 [00:00<?, ?it/s]"
      ]
     },
     "metadata": {},
     "output_type": "display_data"
    },
    {
     "name": "stdout",
     "output_type": "stream",
     "text": [
      "Result:  {'hit_rate': 0.1734806629834254, 'mrr': 0.16335174953959486}\n",
      "Evaluating cofigs: score_threshold=0.8999999999999999, limit=6\n"
     ]
    },
    {
     "data": {
      "application/vnd.jupyter.widget-view+json": {
       "model_id": "126ee89363784378849023dbf0263996",
       "version_major": 2,
       "version_minor": 0
      },
      "text/plain": [
       "  0%|          | 0/905 [00:00<?, ?it/s]"
      ]
     },
     "metadata": {},
     "output_type": "display_data"
    },
    {
     "name": "stdout",
     "output_type": "stream",
     "text": [
      "Result:  {'hit_rate': 0.1734806629834254, 'mrr': 0.16335174953959486}\n",
      "Evaluating cofigs: score_threshold=0.8999999999999999, limit=7\n"
     ]
    },
    {
     "data": {
      "application/vnd.jupyter.widget-view+json": {
       "model_id": "562ace95882f45da9e7d2bf8711b5cfe",
       "version_major": 2,
       "version_minor": 0
      },
      "text/plain": [
       "  0%|          | 0/905 [00:00<?, ?it/s]"
      ]
     },
     "metadata": {},
     "output_type": "display_data"
    },
    {
     "name": "stdout",
     "output_type": "stream",
     "text": [
      "Result:  {'hit_rate': 0.1734806629834254, 'mrr': 0.16335174953959486}\n",
      "Evaluating cofigs: score_threshold=0.8999999999999999, limit=8\n"
     ]
    },
    {
     "data": {
      "application/vnd.jupyter.widget-view+json": {
       "model_id": "b00de2b3eda64e33a58560fe1102d562",
       "version_major": 2,
       "version_minor": 0
      },
      "text/plain": [
       "  0%|          | 0/905 [00:00<?, ?it/s]"
      ]
     },
     "metadata": {},
     "output_type": "display_data"
    },
    {
     "name": "stdout",
     "output_type": "stream",
     "text": [
      "Result:  {'hit_rate': 0.1734806629834254, 'mrr': 0.16335174953959486}\n",
      "Evaluating cofigs: score_threshold=0.8999999999999999, limit=9\n"
     ]
    },
    {
     "data": {
      "application/vnd.jupyter.widget-view+json": {
       "model_id": "bf79358d6d1f431d880fb2f6795d6666",
       "version_major": 2,
       "version_minor": 0
      },
      "text/plain": [
       "  0%|          | 0/905 [00:00<?, ?it/s]"
      ]
     },
     "metadata": {},
     "output_type": "display_data"
    },
    {
     "name": "stdout",
     "output_type": "stream",
     "text": [
      "Result:  {'hit_rate': 0.1734806629834254, 'mrr': 0.16335174953959486}\n",
      "Best params: \n"
     ]
    },
    {
     "data": {
      "text/plain": [
       "[{'hit_rate': 0.9292817679558011,\n",
       "  'mrr': 0.7506265894939936,\n",
       "  'score_threshold': np.float64(0.4),\n",
       "  'limit': np.int64(9)},\n",
       " {'hit_rate': 0.9292817679558011,\n",
       "  'mrr': 0.7506265894939936,\n",
       "  'score_threshold': np.float64(0.5),\n",
       "  'limit': np.int64(9)},\n",
       " {'hit_rate': 0.9292817679558011,\n",
       "  'mrr': 0.7506265894939936,\n",
       "  'score_threshold': np.float64(0.6),\n",
       "  'limit': np.int64(9)},\n",
       " {'hit_rate': 0.9292817679558011,\n",
       "  'mrr': 0.7506265894939936,\n",
       "  'score_threshold': np.float64(0.7),\n",
       "  'limit': np.int64(9)},\n",
       " {'hit_rate': 0.9215469613259668,\n",
       "  'mrr': 0.7497671665351233,\n",
       "  'score_threshold': np.float64(0.4),\n",
       "  'limit': np.int64(8)},\n",
       " {'hit_rate': 0.9215469613259668,\n",
       "  'mrr': 0.7497671665351233,\n",
       "  'score_threshold': np.float64(0.5),\n",
       "  'limit': np.int64(8)},\n",
       " {'hit_rate': 0.9215469613259668,\n",
       "  'mrr': 0.7497671665351233,\n",
       "  'score_threshold': np.float64(0.6),\n",
       "  'limit': np.int64(8)},\n",
       " {'hit_rate': 0.9215469613259668,\n",
       "  'mrr': 0.7497671665351233,\n",
       "  'score_threshold': np.float64(0.7),\n",
       "  'limit': np.int64(8)},\n",
       " {'hit_rate': 0.9138121546961326,\n",
       "  'mrr': 0.748800315706394,\n",
       "  'score_threshold': np.float64(0.4),\n",
       "  'limit': np.int64(7)},\n",
       " {'hit_rate': 0.9138121546961326,\n",
       "  'mrr': 0.748800315706394,\n",
       "  'score_threshold': np.float64(0.5),\n",
       "  'limit': np.int64(7)},\n",
       " {'hit_rate': 0.9138121546961326,\n",
       "  'mrr': 0.748800315706394,\n",
       "  'score_threshold': np.float64(0.6),\n",
       "  'limit': np.int64(7)},\n",
       " {'hit_rate': 0.9138121546961326,\n",
       "  'mrr': 0.748800315706394,\n",
       "  'score_threshold': np.float64(0.7),\n",
       "  'limit': np.int64(7)},\n",
       " {'hit_rate': 0.9082872928176795,\n",
       "  'mrr': 0.7480110497237579,\n",
       "  'score_threshold': np.float64(0.4),\n",
       "  'limit': np.int64(6)},\n",
       " {'hit_rate': 0.9082872928176795,\n",
       "  'mrr': 0.7480110497237579,\n",
       "  'score_threshold': np.float64(0.5),\n",
       "  'limit': np.int64(6)},\n",
       " {'hit_rate': 0.9082872928176795,\n",
       "  'mrr': 0.7480110497237579,\n",
       "  'score_threshold': np.float64(0.6),\n",
       "  'limit': np.int64(6)},\n",
       " {'hit_rate': 0.9082872928176795,\n",
       "  'mrr': 0.7480110497237579,\n",
       "  'score_threshold': np.float64(0.7),\n",
       "  'limit': np.int64(6)},\n",
       " {'hit_rate': 0.8983425414364641,\n",
       "  'mrr': 0.7463535911602219,\n",
       "  'score_threshold': np.float64(0.4),\n",
       "  'limit': np.int64(5)},\n",
       " {'hit_rate': 0.8983425414364641,\n",
       "  'mrr': 0.7463535911602219,\n",
       "  'score_threshold': np.float64(0.5),\n",
       "  'limit': np.int64(5)},\n",
       " {'hit_rate': 0.8983425414364641,\n",
       "  'mrr': 0.7463535911602219,\n",
       "  'score_threshold': np.float64(0.6),\n",
       "  'limit': np.int64(5)},\n",
       " {'hit_rate': 0.8983425414364641,\n",
       "  'mrr': 0.7463535911602219,\n",
       "  'score_threshold': np.float64(0.7),\n",
       "  'limit': np.int64(5)},\n",
       " {'hit_rate': 0.8629834254143647,\n",
       "  'mrr': 0.7165539770235906,\n",
       "  'score_threshold': np.float64(0.7999999999999999),\n",
       "  'limit': np.int64(9)},\n",
       " {'hit_rate': 0.8585635359116022,\n",
       "  'mrr': 0.7160628781899504,\n",
       "  'score_threshold': np.float64(0.7999999999999999),\n",
       "  'limit': np.int64(8)},\n",
       " {'hit_rate': 0.8530386740331491,\n",
       "  'mrr': 0.7153722704551438,\n",
       "  'score_threshold': np.float64(0.7999999999999999),\n",
       "  'limit': np.int64(7)},\n",
       " {'hit_rate': 0.8497237569060774,\n",
       "  'mrr': 0.7148987108655622,\n",
       "  'score_threshold': np.float64(0.7999999999999999),\n",
       "  'limit': np.int64(6)},\n",
       " {'hit_rate': 0.8430939226519337,\n",
       "  'mrr': 0.7137937384898716,\n",
       "  'score_threshold': np.float64(0.7999999999999999),\n",
       "  'limit': np.int64(5)},\n",
       " {'hit_rate': 0.1734806629834254,\n",
       "  'mrr': 0.16335174953959486,\n",
       "  'score_threshold': np.float64(0.8999999999999999),\n",
       "  'limit': np.int64(5)},\n",
       " {'hit_rate': 0.1734806629834254,\n",
       "  'mrr': 0.16335174953959486,\n",
       "  'score_threshold': np.float64(0.8999999999999999),\n",
       "  'limit': np.int64(6)},\n",
       " {'hit_rate': 0.1734806629834254,\n",
       "  'mrr': 0.16335174953959486,\n",
       "  'score_threshold': np.float64(0.8999999999999999),\n",
       "  'limit': np.int64(7)},\n",
       " {'hit_rate': 0.1734806629834254,\n",
       "  'mrr': 0.16335174953959486,\n",
       "  'score_threshold': np.float64(0.8999999999999999),\n",
       "  'limit': np.int64(8)},\n",
       " {'hit_rate': 0.1734806629834254,\n",
       "  'mrr': 0.16335174953959486,\n",
       "  'score_threshold': np.float64(0.8999999999999999),\n",
       "  'limit': np.int64(9)}]"
      ]
     },
     "execution_count": 7,
     "metadata": {},
     "output_type": "execute_result"
    }
   ],
   "source": [
    "import numpy as np\n",
    "\n",
    "score = []\n",
    "sampled_ground_truth_df = ground_truth_df.head(1000)\n",
    "\n",
    "for score_threshold in np.arange(0.4, 1.0, 0.1):\n",
    "    for limit in np.arange(5, 10, 1):\n",
    "        print(\"Evaluating cofigs: score_threshold=\"+str(score_threshold)+\", limit=\"+str(limit))\n",
    "        result = evaluate(sampled_ground_truth_df, lambda question, country: vector_search(question, country, score_threshold, limit))\n",
    "        print(\"Result: \", result)\n",
    "        score.append({\n",
    "            \"hit_rate\": result['hit_rate'],\n",
    "            \"mrr\": result['mrr'],\n",
    "            \"score_threshold\": score_threshold,\n",
    "            \"limit\": limit,\n",
    "        })\n",
    "\n",
    "result = sorted(score, key=lambda item: item['mrr'], reverse=True)\n",
    "print(\"Best params: \")\n",
    "result\n"
   ]
  }
 ],
 "metadata": {
  "kernelspec": {
   "display_name": "OpenAI Project",
   "language": "python",
   "name": "my_openai_env"
  },
  "language_info": {
   "codemirror_mode": {
    "name": "ipython",
    "version": 3
   },
   "file_extension": ".py",
   "mimetype": "text/x-python",
   "name": "python",
   "nbconvert_exporter": "python",
   "pygments_lexer": "ipython3",
   "version": "3.13.5"
  }
 },
 "nbformat": 4,
 "nbformat_minor": 5
}
