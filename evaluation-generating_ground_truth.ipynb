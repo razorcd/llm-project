{
 "cells": [
  {
   "cell_type": "code",
   "execution_count": 1,
   "id": "97378552-9373-4f36-a4c1-bfbeaae418cc",
   "metadata": {},
   "outputs": [
    {
     "data": {
      "text/plain": [
       "[{'index': 10,\n",
       "  'first_name': 'Ethan',\n",
       "  'last_name': 'Thomas',\n",
       "  'date_of_birth': '1994-01-18',\n",
       "  'contract_type': 'Employee',\n",
       "  'vehicle_type': 'car',\n",
       "  'contract_id': 'ID-EMP-1011',\n",
       "  'country': 'GB'}]"
      ]
     },
     "execution_count": 1,
     "metadata": {},
     "output_type": "execute_result"
    }
   ],
   "source": [
    "#Courier profile repo\n",
    "\n",
    "from tinydb import TinyDB, Query\n",
    "from pathlib import Path\n",
    "\n",
    "courier_profiles_db_file = Path(\"tmp_tinydb_storage/courier_profiles_db.json\")\n",
    "db = TinyDB(courier_profiles_db_file)\n",
    "User = Query()\n",
    "\n",
    "db.search(User.index == 10)"
   ]
  },
  {
   "cell_type": "code",
   "execution_count": 8,
   "id": "327afcec-3a5b-4281-bfd2-c42cddfcbf87",
   "metadata": {},
   "outputs": [
    {
     "data": {
      "text/plain": [
       "{'country': 'DE',\n",
       " 'question': 'What are my rights as a part-time employee?',\n",
       " 'answer': 'As a part-time employee, you have the same rights and protections as a full-time employee, including minimum wage, paid leave, and social security. Your hours and pay are proportional to your work schedule.'}"
      ]
     },
     "execution_count": 8,
     "metadata": {},
     "output_type": "execute_result"
    }
   ],
   "source": [
    "#FAQs repo\n",
    "\n",
    "from qdrant_client import QdrantClient, models\n",
    "\n",
    "qd_client = QdrantClient(\"http://localhost:6333\")\n",
    "EMBEDDING_DIMENSIONALITY = 512\n",
    "model_handle = \"jinaai/jina-embeddings-v2-small-en\"\n",
    "collection_name = \"courier-faq\"\n",
    "\n",
    "qd_client.scroll(\n",
    "    collection_name=collection_name,\n",
    "    with_vectors=True,\n",
    "    limit=100\n",
    ")[0][5].payload"
   ]
  },
  {
   "cell_type": "code",
   "execution_count": 9,
   "id": "d161f3ee-b363-4d0c-81e2-b0cb4f9a22d0",
   "metadata": {},
   "outputs": [],
   "source": [
    "def build_evaluation_retrieval_prompt(question, answer, courier):\n",
    "    prompt_template = \"\"\"\n",
    "You emulate a food delivery courier for iDelivery company who is talking to a courier support agent.\n",
    "Formulate 5 questions this courier might ask based on a FAQ record and courier profile. The record\n",
    "should contain the answer to the questions, and the questions should be complete and not too short.\n",
    "If possible, use as fewer words as possible from the record. \n",
    "\n",
    "\n",
    "The record:\n",
    "courier first name: {courier_first_name}\n",
    "courier age: {courier_age}\n",
    "courier contract type: {courier_contract_type}\n",
    "courier vehicle type: {courier_vehicle_type}\n",
    "courier country: {courier_country}\n",
    "question: {question}\n",
    "answer: {answer}\n",
    "\n",
    "Provide the output in parsable JSON without using code blocks:\n",
    "\n",
    "[\"question1\", \"question2\", ..., \"question5\"]\n",
    "\"\"\".strip()\n",
    "\n",
    "    return prompt_template.format(question=question, \n",
    "                                    answer=answer, \n",
    "                                    courier_first_name=courier['first_name'],\n",
    "                                    courier_age=courier['age'],\n",
    "                                    courier_contract_type=courier['contract_type'],\n",
    "                                    courier_vehicle_type=courier['vehicle_type'],\n",
    "                                    courier_country=courier['country'],\n",
    "                                   ).strip()"
   ]
  },
  {
   "cell_type": "code",
   "execution_count": 16,
   "id": "65bb95f3-8612-498c-8f16-66a6d0d681f3",
   "metadata": {},
   "outputs": [],
   "source": [
    "from openai import OpenAI\n",
    "import keys_secret\n",
    "\n",
    "openai_client = OpenAI(api_key=openai_api_key)\n",
    "\n",
    "\n",
    "def llm(prompt):\n",
    "    response = openai_client.chat.completions.create(\n",
    "        model='gpt-4o-mini',\n",
    "        messages=[{\"role\": \"user\", \"content\": prompt}]\n",
    "    )\n",
    "    \n",
    "    return response.choices[0].message.content"
   ]
  },
  {
   "cell_type": "code",
   "execution_count": 13,
   "id": "5f692cf4-9514-4da7-bae7-a093142bbbd2",
   "metadata": {},
   "outputs": [
    {
     "data": {
      "application/vnd.jupyter.widget-view+json": {
       "model_id": "e01f37793ca64cecbdbc96f998928498",
       "version_major": 2,
       "version_minor": 0
      },
      "text/plain": [
       "  0%|          | 0/385 [00:00<?, ?it/s]"
      ]
     },
     "metadata": {},
     "output_type": "display_data"
    },
    {
     "data": {
      "text/plain": [
       "{'ground_truth_faq_id': 0,\n",
       " 'generated_question': 'What type of employment contract do I have with iDelivery?',\n",
       " 'ground_truth_question': 'What is my contract type as an employee?',\n",
       " 'ground_truth_answer': 'As an employee, you will have a part-time or full-time employment contract with iDelivery. This provides you with a fixed salary, paid vacation, and social security benefits, unlike a freelancer.',\n",
       " 'ground_truth_courier': {'index': 2,\n",
       "  'first_name': 'Olivia',\n",
       "  'last_name': 'Davis',\n",
       "  'date_of_birth': '1995-02-10',\n",
       "  'contract_type': 'Employee',\n",
       "  'vehicle_type': 'bike',\n",
       "  'contract_id': 'ID-EMP-1003',\n",
       "  'country': 'DE',\n",
       "  'age': 30}}"
      ]
     },
     "execution_count": 13,
     "metadata": {},
     "output_type": "execute_result"
    }
   ],
   "source": [
    "# Prepare ground truth and generated faq questions\n",
    "from tqdm.auto import tqdm\n",
    "import random, json\n",
    "import helpers\n",
    "\n",
    "ground_truth = []\n",
    "\n",
    "faqs = qd_client.scroll(\n",
    "    collection_name=collection_name,\n",
    "    with_vectors=True,\n",
    "    limit=100000\n",
    ")[0]\n",
    "\n",
    "for faq in tqdm(faqs):\n",
    "    # print(\"FAQ: \",one_faq)\n",
    "    faq_id = faq.id\n",
    "    faq_payload = faq.payload\n",
    "    \n",
    "    if (faq_payload['country'] == \"all\"): question_country = [\"DE\", \"NL\", \"GB\"][random.randint(0,2)]\n",
    "    else: question_country = faq_payload['country']\n",
    "\n",
    "    one_courier = db.search(User.country == question_country)[0]\n",
    "    one_courier['age'] = helpers.get_age_by_birthdate(one_courier['date_of_birth'])\n",
    "    # print(\"Courier: \",one_courier)\n",
    "    \n",
    "    prompt = build_evaluation_retrieval_prompt(faq_payload['question'], faq_payload['answer'], one_courier)\n",
    "    # print(\"Prompt:\")\n",
    "    # print(prompt)\n",
    "    \n",
    "    raw_generated_questions = llm(prompt)\n",
    "    generated_question_list = json.loads(raw_generated_questions)\n",
    "    # print(\"LLM response:\")\n",
    "    # print(generated_question_list)\n",
    "\n",
    "    for generated_question in generated_question_list:\n",
    "        ground_truth.append({\n",
    "            \"ground_truth_faq_id\": faq_id,\n",
    "            \"generated_question\": generated_question,\n",
    "            \"ground_truth_question\": faq_payload['question'],\n",
    "            \"ground_truth_answer\":faq_payload['answer'],\n",
    "            \"ground_truth_courier\": one_courier,\n",
    "        })\n",
    "    # break\n",
    "    \n",
    "ground_truth[0]"
   ]
  },
  {
   "cell_type": "code",
   "execution_count": 14,
   "id": "fc0cc45d-9e4a-406b-80a4-0d9186173b0b",
   "metadata": {},
   "outputs": [],
   "source": [
    "file_path = \"evaluation_ground_truth.json\"\n",
    "with open(file_path, 'w') as json_file:\n",
    "    # json.dump() writes the Python data to the file\n",
    "    # 'indent=4' is optional but highly recommended for human-readable formatting\n",
    "    json.dump(ground_truth, json_file, indent=4)"
   ]
  }
 ],
 "metadata": {
  "kernelspec": {
   "display_name": "OpenAI Project",
   "language": "python",
   "name": "my_openai_env"
  },
  "language_info": {
   "codemirror_mode": {
    "name": "ipython",
    "version": 3
   },
   "file_extension": ".py",
   "mimetype": "text/x-python",
   "name": "python",
   "nbconvert_exporter": "python",
   "pygments_lexer": "ipython3",
   "version": "3.13.5"
  }
 },
 "nbformat": 4,
 "nbformat_minor": 5
}
